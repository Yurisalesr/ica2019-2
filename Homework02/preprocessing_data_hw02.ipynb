{
 "cells": [
  {
   "cell_type": "code",
   "execution_count": 0,
   "metadata": {},
   "outputs": [],
   "source": [
    "import numpy as np\n",
    "import pandas as pd\n",
    "import matplotlib.pyplot as plt\n",
    "import seaborn as sns\n"
   ]
  },
  {
   "cell_type": "code",
   "execution_count": 0,
   "metadata": {},
   "outputs": [],
   "source": [
    "mos_data_raw = pd.read_excel('dataset_raw.xlsx')\n"
   ]
  },
  {
   "cell_type": "code",
   "execution_count": 0,
   "metadata": {},
   "outputs": [],
   "source": [
    "print('\\nData info:\\n')\n",
    "display(mos_data_raw.info())\n",
    "display(mos_data_raw.describe().T)\n",
    "total_NaN = mos_data_raw.isna().sum().sum()\n",
    "total_data = mos_data_raw.dropna().shape[0]\n",
    "loss_NaN = 100 - 100*(total_data - total_NaN)/total_data\n",
    "print(f'\\nTotal of null values: {total_NaN} ({loss_NaN:.3})%')\n"
   ]
  },
  {
   "cell_type": "code",
   "execution_count": 0,
   "metadata": {},
   "outputs": [],
   "source": [
    "mos_data = mos_data_raw.dropna()\n",
    "print('\\nNon-null data info:\\n')\n",
    "display(mos_data.info())\n",
    "display(mos_data.describe().T)\n",
    "display(mos_data.head())\n",
    "# Removing from memory data with NaN values:\n",
    "del mos_data_raw\n"
   ]
  },
  {
   "cell_type": "code",
   "execution_count": 0,
   "metadata": {},
   "outputs": [],
   "source": [
    "results = mos_data['Call Test Result'].value_counts()\n",
    "tech = mos_data['Call Test Technology'].value_counts()\n",
    "print(f''' Qt. of categorical data:\\n\\n{results}\\n\\n{tech}\\n\n",
    "Percentage of catecorical data:\\n\n",
    "{100 - 100 * (total_data - results)/total_data}\\n\n",
    "{100 - 100 * (total_data - tech)/total_data}''')\n"
   ]
  },
  {
   "cell_type": "code",
   "execution_count": 0,
   "metadata": {},
   "outputs": [],
   "source": [
    "# Select only rows with 'SUCCESS':\n",
    "mask = mos_data['Call Test Result'] == 'SUCCESS'\n",
    "# Changing dataset:\n",
    "target_data = mos_data[mask]\n",
    "total_data = target_data.shape[0]\n",
    "# data after\n",
    "results = target_data['Call Test Result'].value_counts()\n",
    "tech = target_data['Call Test Technology'].value_counts()\n",
    "print(f''' Qt. of categorical data:\\n\\n{results}\\n\\n{tech}\\n\n",
    "Percentage of catecorical data:\\n\n",
    "{100 - 100 * (total_data - results)/total_data}\\n\n",
    "{100 - 100 * (total_data - tech)/total_data}\\n''')\n",
    "\n",
    "# Select only rows corresponding to UMTS technology:\n",
    "mask = target_data['Call Test Technology'] == 'UMTS'\n",
    "target_data = target_data[mask]\n",
    "\n",
    "# Resume data:\n",
    "display(target_data.info())\n",
    "display(target_data.head())\n",
    "# removing extra variables from memory\n",
    "# del mask, mos_data\n"
   ]
  },
  {
   "cell_type": "code",
   "execution_count": 0,
   "metadata": {},
   "outputs": [],
   "source": [
    "# Removing Call Test Result and Call Test Technology columns\n",
    "target_data = target_data.drop(columns=['Call Test Result','Call Test Technology'])\n",
    "display(target_data.head())\n",
    "target_data.describe().T\n"
   ]
  },
  {
   "cell_type": "code",
   "execution_count": 0,
   "metadata": {},
   "outputs": [],
   "source": [
    "# Extract hour information of Date Of Test column:\n",
    "date_of_test = target_data['Date Of Test']\n",
    "test_hour = date_of_test.apply(lambda dt: dt.hour)\n",
    "\n",
    "# Visualizing:\n",
    "# plt.figure()\n",
    "# plt.scatter(np.arange(10000), test_hour.values[:10000], \n",
    "            # c=target_data['MOS'][:10000], marker='x')\n",
    "# plt.colorbar()\n",
    "\n",
    "# Add hour column to dataframe and drop the column 'Date Of Test'\n",
    "target_data = target_data.drop(columns='Date Of Test')\n",
    "target_data.insert(0, 'Test Hour', test_hour)\n",
    "display(target_data.head())\n",
    "display(target_data.describe().T)"
   ]
  },
  {
   "cell_type": "code",
   "execution_count": 0,
   "metadata": {},
   "outputs": [],
   "source": [
    "# Visualizing data distribution\n",
    "fig, ax = plt.subplots(2, 4, figsize=(16, 7)) \n",
    "ax = ax.ravel()\n",
    "fig.suptitle('Histogram of the Data')\n",
    "for i in range(0, 7):\n",
    "    ax[i].set_xlabel(target_data.columns[i])\n",
    "    ax[0].set_ylabel('Frequency')\n",
    "    ax[4].set_ylabel('Frequency')\n",
    "    ax[i].hist(target_data.iloc[:, i], bins=16, alpha=.75)\n",
    "fig.delaxes(ax[7])\n",
    "# plt.savefig('hw02-figs/hist_data.pdf')\n"
   ]
  },
  {
   "cell_type": "code",
   "execution_count": 0,
   "metadata": {},
   "outputs": [],
   "source": [
    "def empirical_cdf(data):\n",
    "   x, y = np.unique(data, return_counts=True)\n",
    "   return x, np.cumsum(y)/data.size"
   ]
  },
  {
   "cell_type": "code",
   "execution_count": 0,
   "metadata": {},
   "outputs": [],
   "source": [
    "# os dados 3rd quartil menores que 1km\n",
    "# box plot:\n",
    "sns.boxplot(target_data.iloc[:,3])\n",
    "plt.xlim(0, 5000)\n",
    "\n",
    "# cdf :\n",
    "x, y = empirical_cdf(target_data.iloc[:,3])\n",
    "plt.figure()\n",
    "plt.plot(x,y)\n",
    "plt.axis([0,10000,0,1])\n",
    "plt.yticks(np.arange(11)/10)\n",
    "\n",
    "# \n",
    "print(x[np.where(y>=.95)[0][0]])\n"
   ]
  },
  {
   "cell_type": "code",
   "execution_count": 0,
   "metadata": {},
   "outputs": [],
   "source": [
    "mask = (target_data.iloc[:,3] <= 35)\n",
    "target_data[mask].plot.scatter('Distance from site (m)','Signal (dBm)')\n",
    "# argumento macro celula modelo... distancia minima do usuário para a base\n",
    "# impraticavel na realidade algo assim...\n"
   ]
  },
  {
   "cell_type": "code",
   "execution_count": 0,
   "metadata": {},
   "outputs": [],
   "source": [
    "mask = (target_data.iloc[:,3] >= 35) & (target_data.iloc[:,3] <= 5565)\n",
    "target_data = target_data[mask]\n",
    "target_data.describe().T # descarte de % dos dados\n"
   ]
  },
  {
   "cell_type": "code",
   "execution_count": 0,
   "metadata": {},
   "outputs": [],
   "source": [
    "# \n",
    "mask = target_data.iloc[:,2] < 0\n",
    "print(f'Qt. of invalid speed data: {target_data[mask].shape[0]}')\n",
    "\n",
    "# removing columns of speed values < 0\n",
    "mask = target_data.iloc[:,2] >= 0\n",
    "target_data = target_data[mask]\n",
    "display(target_data.describe().T)"
   ]
  },
  {
   "cell_type": "code",
   "execution_count": 0,
   "metadata": {},
   "outputs": [],
   "source": [
    "sns.boxplot(target_data.iloc[:,2])\n",
    "\n",
    "x, y = empirical_cdf(target_data.iloc[:,2])\n",
    "plt.figure()\n",
    "plt.plot(x,y)\n",
    "# plt.axis([0,10000,0,1])\n",
    "plt.yticks(np.arange(11)/10)\n"
   ]
  },
  {
   "cell_type": "code",
   "execution_count": 0,
   "metadata": {},
   "outputs": [],
   "source": [
    "mask = (target_data.iloc[:,2] <60) #& (target_data.iloc[:,2] < 70) \n",
    "target_data[mask].shape[0],100-100*(target_data.shape[0] - target_data[mask].shape[0])/target_data.shape[0]\n",
    "# lidando com 85 %\n",
    "# plt.figure()\n",
    "# plt.scatter(target_data.iloc[:,1], target_data.iloc[:,2], \n",
    "#             c=target_data['MOS'], marker='x')\n",
    "# plt.colorbar()"
   ]
  },
  {
   "cell_type": "code",
   "execution_count": 0,
   "metadata": {},
   "outputs": [],
   "source": [
    "# target_data.describe()\n",
    "# salvando sem alteração do máximo de velocidade\n",
    "target_data.to_excel('target_mos_data.xlsx', index=False)"
   ]
  },
  {
   "cell_type": "code",
   "execution_count": 0,
   "metadata": {},
   "outputs": [],
   "source": [
    "mask = target_data.iloc[:,2] < 40\n",
    "target_data = target_data[mask]\n",
    "display(target_data.describe().T)\n",
    "display(target_data.head())\n",
    "#salvando com alteraçao\n",
    "target_data.to_excel('mos_data_v0-40.xlsx', index=False)\n",
    "\n",
    "# justificar distancia minima pela inconsistencia fisica dos dados\n",
    "# z=(data_d57.iloc[:,3] >= 35 ) & (data_d57.iloc[:, 3] <= 200  )\n",
    "# data_d57[z].plot.scatter('Distance from site (m)','Signal (dBm)')\n"
   ]
  },
  {
   "cell_type": "code",
   "execution_count": 0,
   "metadata": {},
   "outputs": [],
   "source": [
    "def split_data(data, rate):\n",
    "    n = data.shape[0]\n",
    "    idx = np.random.permutation(n)\n",
    "    test_set = data.iloc[idx[:int(n*rate)]] # test: n*rate frist rows\n",
    "    train_set = data.iloc[idx[int(n*rate):]] # train: the rest\n",
    "    return train_set, test_set\n"
   ]
  },
  {
   "cell_type": "code",
   "execution_count": 0,
   "metadata": {},
   "outputs": [],
   "source": [
    "test, train = split_data(target_data, 2/3)"
   ]
  },
  {
   "cell_type": "code",
   "execution_count": 0,
   "metadata": {},
   "outputs": [],
   "source": [
    "test.to_excel('mos_datav0-40_test.xlsx', index=False)\n",
    "train.to_excel('mos_datav0-40_train.xlsx', index=False)"
   ]
  }
 ],
 "metadata": {
  "file_extension": ".py",
  "kernelspec": {
   "display_name": "Python 3",
   "language": "python",
   "name": "python3"
  },
  "language_info": {
   "codemirror_mode": {
    "name": "ipython",
    "version": 3
   },
   "file_extension": ".py",
   "mimetype": "text/x-python",
   "name": "python",
   "nbconvert_exporter": "python",
   "pygments_lexer": "ipython3",
   "version": "3.7.4"
  },
  "mimetype": "text/x-python",
  "name": "python",
  "npconvert_exporter": "python",
  "pygments_lexer": "ipython3",
  "version": 3
 },
 "nbformat": 4,
 "nbformat_minor": 2
}
