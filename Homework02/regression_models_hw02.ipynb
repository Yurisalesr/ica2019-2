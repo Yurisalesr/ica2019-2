{
 "cells": [
  {
   "cell_type": "markdown",
   "metadata": {},
   "source": [
    "# Departamento de Engenharia de Teleinformática\n",
    "# Curso de Graduação em Engenharia de Telecomuniucações\n",
    "# TI0077 - Inteligência Computacional Aplicada\n",
    "## Homework 02 - Models for regression - Part 2/2\n",
    "\n",
    "Parte 1 questão 0: [Parte 1: Pré-processamento](preprocessing_data_hw02.ipynb)\n",
    "\n",
    "### Alunos:\n",
    "\n",
    "- Ezequias Márcio Silva de Santana Júnior - 371887\n",
    "- Ingrid Simões Moreira Furtado - 375147\n",
    "- Yuri Sales Ribeiro - 375177\n",
    "\n",
    "#### Observações:\n",
    "Para utilizar esse notebook é necessario ter Python3 instalado, juntamente com os pacotes listados abaixo:\n",
    "\n",
    "- `numpy 1.16.2`\n",
    "- `pandas 0.24.2`\n",
    "- `matplotlib 3.0.3`\n",
    "- `seaborn 0.9.0`\n",
    "- `scipy 1.2.2`\n",
    "- `scikit-learn 0.21.3`  \n",
    "\n",
    "Este notebook, os dados utilizados e eventuais tabelas e figuras salvas encontam-se disponiveis no seguinte \n",
    "repositório: https://github.com/ezequiasjunior/ica2019.2\n",
    "\n",
    "Ao executar este notebook localmente, serão gerados arquivos ```.pdf``` e tabelas ```.tex```."
   ]
  },
  {
   "cell_type": "code",
   "execution_count": 1,
   "metadata": {},
   "outputs": [],
   "source": [
    "import numpy as np\n",
    "import pandas as pd\n",
    "import matplotlib.pyplot as plt\n",
    "import seaborn as sns\n",
    "from sklearn import linear_model\n",
    "from sklearn.cross_decomposition import PLSRegression\n",
    "from sklearn.decomposition import PCA\n",
    "from sklearn.metrics import r2_score, mean_squared_error\n",
    "from sklearn.model_selection import cross_val_score\n",
    "sns.set_style(\"whitegrid\")\n",
    "# np.set_printoptions(5)"
   ]
  },
  {
   "cell_type": "code",
   "execution_count": 2,
   "metadata": {},
   "outputs": [],
   "source": [
    "# Usefull funtions:\n",
    "def unc_monovar(data):\n",
    "    #  Display the unconditional mono-variate analysis of a given data\n",
    "    data_desc = data.describe().T\n",
    "    data_desc.insert(3, 'skewness', data.skew())\n",
    "    display(data_desc)"
   ]
  },
  {
   "cell_type": "markdown",
   "metadata": {},
   "source": [
    "### Carregando o conjunto de treino e de validação\n",
    "\n",
    "Como resultado do notebook da parte 1, os conjuntos de treino e validação transformados junto com suas respectivas saídas Y são carregados nas cálulas abaixo.\n",
    "\n",
    " São $D = 6$ preditores com $N = 40824$ observações no conjunto de treino e $N =4537$ no conjunto de validação."
   ]
  },
  {
   "cell_type": "code",
   "execution_count": 3,
   "metadata": {},
   "outputs": [
    {
     "data": {
      "text/html": [
       "<div>\n",
       "<style scoped>\n",
       "    .dataframe tbody tr th:only-of-type {\n",
       "        vertical-align: middle;\n",
       "    }\n",
       "\n",
       "    .dataframe tbody tr th {\n",
       "        vertical-align: top;\n",
       "    }\n",
       "\n",
       "    .dataframe thead th {\n",
       "        text-align: right;\n",
       "    }\n",
       "</style>\n",
       "<table border=\"1\" class=\"dataframe\">\n",
       "  <thead>\n",
       "    <tr style=\"text-align: right;\">\n",
       "      <th></th>\n",
       "      <th>count</th>\n",
       "      <th>mean</th>\n",
       "      <th>std</th>\n",
       "      <th>skewness</th>\n",
       "      <th>min</th>\n",
       "      <th>25%</th>\n",
       "      <th>50%</th>\n",
       "      <th>75%</th>\n",
       "      <th>max</th>\n",
       "    </tr>\n",
       "  </thead>\n",
       "  <tbody>\n",
       "    <tr>\n",
       "      <th>Test Hour</th>\n",
       "      <td>40824.0</td>\n",
       "      <td>5.609244e-13</td>\n",
       "      <td>1.0</td>\n",
       "      <td>-0.228283</td>\n",
       "      <td>-2.071230</td>\n",
       "      <td>-0.690076</td>\n",
       "      <td>0.129795</td>\n",
       "      <td>0.774100</td>\n",
       "      <td>1.726751</td>\n",
       "    </tr>\n",
       "    <tr>\n",
       "      <th>Signal (dBm)</th>\n",
       "      <td>40824.0</td>\n",
       "      <td>-3.264810e-13</td>\n",
       "      <td>1.0</td>\n",
       "      <td>0.047252</td>\n",
       "      <td>-3.469940</td>\n",
       "      <td>-0.707308</td>\n",
       "      <td>-0.056018</td>\n",
       "      <td>0.732435</td>\n",
       "      <td>1.636566</td>\n",
       "    </tr>\n",
       "    <tr>\n",
       "      <th>Speed (m/s)</th>\n",
       "      <td>40824.0</td>\n",
       "      <td>2.817147e-15</td>\n",
       "      <td>1.0</td>\n",
       "      <td>0.688033</td>\n",
       "      <td>-0.760090</td>\n",
       "      <td>-0.760090</td>\n",
       "      <td>-0.760090</td>\n",
       "      <td>1.172680</td>\n",
       "      <td>1.676465</td>\n",
       "    </tr>\n",
       "    <tr>\n",
       "      <th>Distance from site (m)</th>\n",
       "      <td>40824.0</td>\n",
       "      <td>6.659588e-14</td>\n",
       "      <td>1.0</td>\n",
       "      <td>-0.021276</td>\n",
       "      <td>-2.419142</td>\n",
       "      <td>-0.682472</td>\n",
       "      <td>0.037255</td>\n",
       "      <td>0.719762</td>\n",
       "      <td>2.834735</td>\n",
       "    </tr>\n",
       "    <tr>\n",
       "      <th>Call Test Duration (s)</th>\n",
       "      <td>40824.0</td>\n",
       "      <td>-1.320513e-11</td>\n",
       "      <td>1.0</td>\n",
       "      <td>0.004881</td>\n",
       "      <td>-2.201598</td>\n",
       "      <td>-0.997375</td>\n",
       "      <td>-0.997375</td>\n",
       "      <td>1.002898</td>\n",
       "      <td>1.002898</td>\n",
       "    </tr>\n",
       "    <tr>\n",
       "      <th>Call Test Setup Time (s)</th>\n",
       "      <td>40824.0</td>\n",
       "      <td>2.817698e-15</td>\n",
       "      <td>1.0</td>\n",
       "      <td>2.200135</td>\n",
       "      <td>-2.346708</td>\n",
       "      <td>-0.061277</td>\n",
       "      <td>0.170190</td>\n",
       "      <td>0.424873</td>\n",
       "      <td>35.353997</td>\n",
       "    </tr>\n",
       "  </tbody>\n",
       "</table>\n",
       "</div>"
      ],
      "text/plain": [
       "                            count          mean  std  skewness       min  \\\n",
       "Test Hour                 40824.0  5.609244e-13  1.0 -0.228283 -2.071230   \n",
       "Signal (dBm)              40824.0 -3.264810e-13  1.0  0.047252 -3.469940   \n",
       "Speed (m/s)               40824.0  2.817147e-15  1.0  0.688033 -0.760090   \n",
       "Distance from site (m)    40824.0  6.659588e-14  1.0 -0.021276 -2.419142   \n",
       "Call Test Duration (s)    40824.0 -1.320513e-11  1.0  0.004881 -2.201598   \n",
       "Call Test Setup Time (s)  40824.0  2.817698e-15  1.0  2.200135 -2.346708   \n",
       "\n",
       "                               25%       50%       75%        max  \n",
       "Test Hour                -0.690076  0.129795  0.774100   1.726751  \n",
       "Signal (dBm)             -0.707308 -0.056018  0.732435   1.636566  \n",
       "Speed (m/s)              -0.760090 -0.760090  1.172680   1.676465  \n",
       "Distance from site (m)   -0.682472  0.037255  0.719762   2.834735  \n",
       "Call Test Duration (s)   -0.997375 -0.997375  1.002898   1.002898  \n",
       "Call Test Setup Time (s) -0.061277  0.170190  0.424873  35.353997  "
      ]
     },
     "metadata": {},
     "output_type": "display_data"
    },
    {
     "data": {
      "text/html": [
       "<div>\n",
       "<style scoped>\n",
       "    .dataframe tbody tr th:only-of-type {\n",
       "        vertical-align: middle;\n",
       "    }\n",
       "\n",
       "    .dataframe tbody tr th {\n",
       "        vertical-align: top;\n",
       "    }\n",
       "\n",
       "    .dataframe thead th {\n",
       "        text-align: right;\n",
       "    }\n",
       "</style>\n",
       "<table border=\"1\" class=\"dataframe\">\n",
       "  <thead>\n",
       "    <tr style=\"text-align: right;\">\n",
       "      <th></th>\n",
       "      <th>count</th>\n",
       "      <th>mean</th>\n",
       "      <th>std</th>\n",
       "      <th>skewness</th>\n",
       "      <th>min</th>\n",
       "      <th>25%</th>\n",
       "      <th>50%</th>\n",
       "      <th>75%</th>\n",
       "      <th>max</th>\n",
       "    </tr>\n",
       "  </thead>\n",
       "  <tbody>\n",
       "    <tr>\n",
       "      <th>MOS</th>\n",
       "      <td>40824.0</td>\n",
       "      <td>2.509039</td>\n",
       "      <td>1.107205</td>\n",
       "      <td>0.266005</td>\n",
       "      <td>1.0</td>\n",
       "      <td>2.1</td>\n",
       "      <td>2.7</td>\n",
       "      <td>2.7</td>\n",
       "      <td>4.4</td>\n",
       "    </tr>\n",
       "  </tbody>\n",
       "</table>\n",
       "</div>"
      ],
      "text/plain": [
       "       count      mean       std  skewness  min  25%  50%  75%  max\n",
       "MOS  40824.0  2.509039  1.107205  0.266005  1.0  2.1  2.7  2.7  4.4"
      ]
     },
     "metadata": {},
     "output_type": "display_data"
    }
   ],
   "source": [
    "# Loading transformed predictors data:\n",
    "mos_trainX = pd.read_excel('hw2-data/X_mos_training.xlsx')#Xtrans_mos_train.xlsx') #2/3\n",
    "# Loading outcome data:\n",
    "mos_trainY = pd.read_excel('hw2-data/Y_mos_training.xlsx')#Y_mos_train.xlsx') #2/3\n",
    "# Info:\n",
    "unc_monovar(mos_trainX)\n",
    "unc_monovar(mos_trainY)"
   ]
  },
  {
   "cell_type": "code",
   "execution_count": 4,
   "metadata": {},
   "outputs": [
    {
     "data": {
      "text/html": [
       "<div>\n",
       "<style scoped>\n",
       "    .dataframe tbody tr th:only-of-type {\n",
       "        vertical-align: middle;\n",
       "    }\n",
       "\n",
       "    .dataframe tbody tr th {\n",
       "        vertical-align: top;\n",
       "    }\n",
       "\n",
       "    .dataframe thead th {\n",
       "        text-align: right;\n",
       "    }\n",
       "</style>\n",
       "<table border=\"1\" class=\"dataframe\">\n",
       "  <thead>\n",
       "    <tr style=\"text-align: right;\">\n",
       "      <th></th>\n",
       "      <th>count</th>\n",
       "      <th>mean</th>\n",
       "      <th>std</th>\n",
       "      <th>skewness</th>\n",
       "      <th>min</th>\n",
       "      <th>25%</th>\n",
       "      <th>50%</th>\n",
       "      <th>75%</th>\n",
       "      <th>max</th>\n",
       "    </tr>\n",
       "  </thead>\n",
       "  <tbody>\n",
       "    <tr>\n",
       "      <th>Test Hour</th>\n",
       "      <td>4537.0</td>\n",
       "      <td>-3.178125e-14</td>\n",
       "      <td>1.0</td>\n",
       "      <td>-0.232338</td>\n",
       "      <td>-2.069065</td>\n",
       "      <td>-0.704283</td>\n",
       "      <td>0.112778</td>\n",
       "      <td>0.756753</td>\n",
       "      <td>1.711159</td>\n",
       "    </tr>\n",
       "    <tr>\n",
       "      <th>Signal (dBm)</th>\n",
       "      <td>4537.0</td>\n",
       "      <td>-1.656672e-14</td>\n",
       "      <td>1.0</td>\n",
       "      <td>0.047198</td>\n",
       "      <td>-3.424822</td>\n",
       "      <td>-0.730599</td>\n",
       "      <td>-0.064708</td>\n",
       "      <td>0.732391</td>\n",
       "      <td>1.631959</td>\n",
       "    </tr>\n",
       "    <tr>\n",
       "      <th>Speed (m/s)</th>\n",
       "      <td>4537.0</td>\n",
       "      <td>-7.994242e-16</td>\n",
       "      <td>1.0</td>\n",
       "      <td>0.685457</td>\n",
       "      <td>-0.760767</td>\n",
       "      <td>-0.760767</td>\n",
       "      <td>-0.760767</td>\n",
       "      <td>1.166389</td>\n",
       "      <td>1.670195</td>\n",
       "    </tr>\n",
       "    <tr>\n",
       "      <th>Distance from site (m)</th>\n",
       "      <td>4537.0</td>\n",
       "      <td>2.562616e-15</td>\n",
       "      <td>1.0</td>\n",
       "      <td>-0.022594</td>\n",
       "      <td>-2.448827</td>\n",
       "      <td>-0.707874</td>\n",
       "      <td>0.042352</td>\n",
       "      <td>0.719309</td>\n",
       "      <td>2.811050</td>\n",
       "    </tr>\n",
       "    <tr>\n",
       "      <th>Call Test Duration (s)</th>\n",
       "      <td>4537.0</td>\n",
       "      <td>4.238955e-13</td>\n",
       "      <td>1.0</td>\n",
       "      <td>-0.022442</td>\n",
       "      <td>-1.087703</td>\n",
       "      <td>-1.011115</td>\n",
       "      <td>0.975022</td>\n",
       "      <td>0.989245</td>\n",
       "      <td>0.989245</td>\n",
       "    </tr>\n",
       "    <tr>\n",
       "      <th>Call Test Setup Time (s)</th>\n",
       "      <td>4537.0</td>\n",
       "      <td>1.235042e-14</td>\n",
       "      <td>1.0</td>\n",
       "      <td>1.692874</td>\n",
       "      <td>-2.360090</td>\n",
       "      <td>-0.024395</td>\n",
       "      <td>0.179242</td>\n",
       "      <td>0.407238</td>\n",
       "      <td>19.760145</td>\n",
       "    </tr>\n",
       "  </tbody>\n",
       "</table>\n",
       "</div>"
      ],
      "text/plain": [
       "                           count          mean  std  skewness       min  \\\n",
       "Test Hour                 4537.0 -3.178125e-14  1.0 -0.232338 -2.069065   \n",
       "Signal (dBm)              4537.0 -1.656672e-14  1.0  0.047198 -3.424822   \n",
       "Speed (m/s)               4537.0 -7.994242e-16  1.0  0.685457 -0.760767   \n",
       "Distance from site (m)    4537.0  2.562616e-15  1.0 -0.022594 -2.448827   \n",
       "Call Test Duration (s)    4537.0  4.238955e-13  1.0 -0.022442 -1.087703   \n",
       "Call Test Setup Time (s)  4537.0  1.235042e-14  1.0  1.692874 -2.360090   \n",
       "\n",
       "                               25%       50%       75%        max  \n",
       "Test Hour                -0.704283  0.112778  0.756753   1.711159  \n",
       "Signal (dBm)             -0.730599 -0.064708  0.732391   1.631959  \n",
       "Speed (m/s)              -0.760767 -0.760767  1.166389   1.670195  \n",
       "Distance from site (m)   -0.707874  0.042352  0.719309   2.811050  \n",
       "Call Test Duration (s)   -1.011115  0.975022  0.989245   0.989245  \n",
       "Call Test Setup Time (s) -0.024395  0.179242  0.407238  19.760145  "
      ]
     },
     "metadata": {},
     "output_type": "display_data"
    },
    {
     "data": {
      "text/html": [
       "<div>\n",
       "<style scoped>\n",
       "    .dataframe tbody tr th:only-of-type {\n",
       "        vertical-align: middle;\n",
       "    }\n",
       "\n",
       "    .dataframe tbody tr th {\n",
       "        vertical-align: top;\n",
       "    }\n",
       "\n",
       "    .dataframe thead th {\n",
       "        text-align: right;\n",
       "    }\n",
       "</style>\n",
       "<table border=\"1\" class=\"dataframe\">\n",
       "  <thead>\n",
       "    <tr style=\"text-align: right;\">\n",
       "      <th></th>\n",
       "      <th>count</th>\n",
       "      <th>mean</th>\n",
       "      <th>std</th>\n",
       "      <th>skewness</th>\n",
       "      <th>min</th>\n",
       "      <th>25%</th>\n",
       "      <th>50%</th>\n",
       "      <th>75%</th>\n",
       "      <th>max</th>\n",
       "    </tr>\n",
       "  </thead>\n",
       "  <tbody>\n",
       "    <tr>\n",
       "      <th>MOS</th>\n",
       "      <td>4537.0</td>\n",
       "      <td>2.522812</td>\n",
       "      <td>1.106716</td>\n",
       "      <td>0.26751</td>\n",
       "      <td>1.0</td>\n",
       "      <td>2.1</td>\n",
       "      <td>2.7</td>\n",
       "      <td>2.7</td>\n",
       "      <td>4.4</td>\n",
       "    </tr>\n",
       "  </tbody>\n",
       "</table>\n",
       "</div>"
      ],
      "text/plain": [
       "      count      mean       std  skewness  min  25%  50%  75%  max\n",
       "MOS  4537.0  2.522812  1.106716   0.26751  1.0  2.1  2.7  2.7  4.4"
      ]
     },
     "metadata": {},
     "output_type": "display_data"
    }
   ],
   "source": [
    "# Loading the transformed validation dataset:\n",
    "mos_X = pd.read_excel('hw2-data/X_mos_validalidation.xlsx')#Xtrans_mos_valid.xlsx') #2/3\n",
    "# Loading outcome validation data:\n",
    "mos_Y = pd.read_excel('hw2-data/Y_mos_validation.xlsx')#Y_mos_valid.xlsx') #2/3\n",
    "# Info:\n",
    "unc_monovar(mos_X)\n",
    "unc_monovar(mos_Y)"
   ]
  },
  {
   "cell_type": "markdown",
   "metadata": {},
   "source": [
    "### Regressão linear - Ordinary Least Squares\n",
    "\n",
    "Na célula abaixo, é feita a regressão linear para construir o modelo de predição $Y = X\\beta + \\epsilon$, utilizando o conjunto de módulos do pacote Scikit Learn que calcula os coeficientes do modelo usando: $$\\hat{\\beta} = (X^{T}X)^{-1}X^{T}Y$$"
   ]
  },
  {
   "cell_type": "code",
   "execution_count": 5,
   "metadata": {},
   "outputs": [
    {
     "name": "stdout",
     "output_type": "stream",
     "text": [
      "OLS model coefficients.: b0, ..., b6\n",
      "\n",
      "[[ 2.50903880e+00]\n",
      " [-1.84091190e-03]\n",
      " [ 2.10046277e-01]\n",
      " [ 3.97094590e-02]\n",
      " [ 1.05922088e-01]\n",
      " [-1.62946684e-01]\n",
      " [ 4.79486047e-02]]\n",
      "\n",
      "OLS performance - validation set:\n",
      "\n",
      "RMSE: 1.0844609969725199\n",
      "R2: 0.039602730560349575\n",
      "\n",
      "Residuals:\n",
      "                MOS\n",
      "count  4537.000000\n",
      "mean      0.013774\n",
      "std       1.084493\n",
      "min      -2.292750\n",
      "25%      -0.590740\n",
      "50%      -0.001342\n",
      "75%       0.454471\n",
      "max       2.505490\n",
      " \n",
      "OLS 10-fold CV R2 performance: (training set)\n",
      "\n",
      "[0.04098662 0.04038959 0.02618048 0.03824233 0.03959815 0.03273559\n",
      " 0.04003435 0.04024969 0.0351543  0.03757413]\n",
      "mean: 0.03711452276106875\n",
      "\n",
      "OLS 10-fold CV RMSE performance: (training set)\n",
      "\n",
      "[1.09450206 1.09210763 1.08188607 1.0895453  1.07817864 1.06626286\n",
      " 1.09853912 1.07156401 1.09354745 1.09685546]\n",
      "mean: 1.0862988595481644\n"
     ]
    }
   ],
   "source": [
    "# Build the model:\n",
    "ols = linear_model.LinearRegression()\n",
    "# Model fitting using the training set:\n",
    "ols.fit(mos_trainX.values, mos_trainY.values)\n",
    "# Model output: estimated coeff. independent term + D=6 weigths\n",
    "ols_beta = np.hstack([ols.intercept_[:, np.newaxis], ols.coef_]) \n",
    "\n",
    "# Testing the model:\n",
    "# Estimate the outcome using the validation set: real data = mos_Y\n",
    "ols_Y = ols.predict(mos_X.values)\n",
    "# Compute the RMSE and the R2 scores using scikit-learn built-in functions\n",
    "ols_rmse = np.sqrt(mean_squared_error(mos_Y, ols_Y))\n",
    "ols_r2 = r2_score(mos_Y, ols_Y)\n",
    "\n",
    "# Cross validation scheme: considering k=10 (N >10e3 samples)\n",
    "ols_cv_r2 = cross_val_score(ols, mos_trainX.values, mos_trainY.values, cv=10)\n",
    "ols_cv_rmse = cross_val_score(ols, mos_trainX.values, mos_trainY.values, \n",
    "                                   scoring='neg_mean_squared_error',cv=10)\n",
    "ols_cv_rmse = np.sqrt(-ols_cv_rmse)\n",
    "\n",
    "# View results:\n",
    "print(f'''OLS model coefficients.: b0, ..., b6\\n\n",
    "{ols_beta.T}\\n\n",
    "OLS performance - validation set:\\n\n",
    "RMSE: {ols_rmse}\n",
    "R2: {ols_r2}\\n\n",
    "Residuals:\\n {(mos_Y - ols_Y).describe()}\\n \n",
    "OLS 10-fold CV R2 performance: (training set)\\n\\n{ols_cv_r2}\n",
    "mean: {ols_cv_r2.mean()}\\n\n",
    "OLS 10-fold CV RMSE performance: (training set)\\n\\n{ols_cv_rmse}\n",
    "mean: {ols_cv_rmse.mean()}''')"
   ]
  },
  {
   "cell_type": "markdown",
   "metadata": {},
   "source": [
    "### Regressão linear com restrição L2 - Ridge\n",
    "\n",
    "Na célula abaixo, é feita a regressão linear para construir o modelo de predição, utilizando o conjunto de módulos do pacote Scikit Learn que calcula os coeficientes do modelo usando a abordagem com restrição L-2: $$\\hat{\\beta} = (X^{T}X -\\lambda I)^{-1}X^{T}Y$$\n",
    "\n",
    "onde $\\lambda$ é o hiperparâmetro a ser otimizado."
   ]
  },
  {
   "cell_type": "code",
   "execution_count": 6,
   "metadata": {},
   "outputs": [
    {
     "name": "stdout",
     "output_type": "stream",
     "text": [
      "Ridge model coefficients.: b0, ..., b6 (lambda = 1)\n",
      "\n",
      "[[ 2.50903880e+00]\n",
      " [-1.83929483e-03]\n",
      " [ 2.10036740e-01]\n",
      " [ 3.97102645e-02]\n",
      " [ 1.05915184e-01]\n",
      " [-1.62936156e-01]\n",
      " [ 4.79457349e-02]]\n",
      "\n",
      "Ridge performance - validation set:\n",
      "\n",
      "RMSE: 1.0844609727031376\n",
      "R2: 0.03960277354621666\n",
      "\n",
      "Residuals:\n",
      "                MOS\n",
      "count  4537.000000\n",
      "mean      0.013774\n",
      "std       1.084493\n",
      "min      -2.292713\n",
      "25%      -0.590736\n",
      "50%      -0.001337\n",
      "75%       0.454462\n",
      "max       2.505457\n"
     ]
    }
   ],
   "source": [
    "# Build the model: default lambda = 1 \n",
    "ridge = linear_model.Ridge()\n",
    "# Model fitting using the training set:\n",
    "ridge.fit(mos_trainX.values, mos_trainY.values)\n",
    "# Model output: estimated coeff. independent term + D=6 weigths\n",
    "ridge_beta = np.hstack([ridge.intercept_[:, np.newaxis], ridge.coef_]) \n",
    "\n",
    "# Testing the model:\n",
    "# Estimate the outcome using the validation set: real data = mos_Y\n",
    "ridge_Y = ridge.predict(mos_X.values)\n",
    "# Compute the RMSE and the R2 scores using scikit-learn built-in functions\n",
    "ridge_rmse = np.sqrt(mean_squared_error(mos_Y, ridge_Y))\n",
    "ridge_r2 = r2_score(mos_Y, ridge_Y)\n",
    "\n",
    "# View results:\n",
    "print(f'''Ridge model coefficients.: b0, ..., b6 (lambda = 1)\\n\n",
    "{ridge_beta.T}\\n\n",
    "Ridge performance - validation set:\\n\n",
    "RMSE: {ridge_rmse}\n",
    "R2: {ridge_r2}\\n\n",
    "Residuals:\\n {(mos_Y - ridge_Y).describe()}''')"
   ]
  },
  {
   "cell_type": "markdown",
   "metadata": {},
   "source": [
    "### Busca pelo hiperparâmetro $\\lambda$\n",
    "\n",
    "Ná célula abaixo, é feita a busca pelo hiperparâmetro $\\lambda$ que leva á um RMSE mínimo, utilizando o processo de validação cruzada com o conjunto de dados particionado em $k=10$ $\\textit{folds}$ e, em seguida, extraindo o valor graficamente."
   ]
  },
  {
   "cell_type": "code",
   "execution_count": 19,
   "metadata": {},
   "outputs": [],
   "source": [
    "# Range of hyperparam. lambda [0, 70]:\n",
    "lambd = np.linspace(0, 70, 100)\n",
    "# Variables for mean of CV metrics:\n",
    "cv_rmse = np.zeros(lambd.size)\n",
    "cv_r2 = np.zeros(lambd.size)\n",
    "# Perform CV profile:\n",
    "for idx, l in enumerate(lambd):\n",
    "    # Build the model: lambda = l\n",
    "    cv_ridge = linear_model.Ridge(alpha=l)\n",
    "    # Cross validation scheme: considering k=10\n",
    "    cv_r2[idx] = cross_val_score(cv_ridge, mos_trainX.values, mos_trainY.values, cv=10).mean()\n",
    "    cv_ridge_rmse = cross_val_score(cv_ridge, mos_trainX.values, mos_trainY.values, \n",
    "                                         scoring='neg_mean_squared_error',cv=10).mean()\n",
    "    cv_rmse[idx] = np.sqrt(-cv_ridge_rmse)"
   ]
  },
  {
   "cell_type": "code",
   "execution_count": 20,
   "metadata": {},
   "outputs": [
    {
     "data": {
      "image/png": "[encoded data removed]",
      "text/plain": [
       "<Figure size 864x360 with 2 Axes>"
      ]
     },
     "metadata": {
      "needs_background": "light"
     },
     "output_type": "display_data"
    }
   ],
   "source": [
    "# Process report: plot cross-validation profile:\n",
    "fig, ax = plt.subplots(1, 2, figsize=(12,5))\n",
    "plt.suptitle('Cross-validation profile (k=10) - Ridge regression')\n",
    "ax[0].plot(lambd, cv_rmse,'C0-') # rmse\n",
    "ax[0].set_xlabel('$\\lambda$')\n",
    "ax[0].set_ylabel('RMSE')\n",
    "ax[0].plot(lambd[np.argmin(cv_rmse)], np.min(cv_rmse), 'C3o', \n",
    "           label=f'minimum RMSE -> lambda = {lambd[np.argmin(cv_rmse)]:.4}') # minimum rmse point\n",
    "ax[0].legend()\n",
    "ax[1].plot(lambd, cv_r2,'C3-') # r2\n",
    "ax[1].set_xlabel('$\\lambda$')\n",
    "ax[1].set_ylabel('R2')\n",
    "plt.show()\n",
    "fig.savefig('hw02-figs/CV_ridgelambda.pdf')"
   ]
  },
  {
   "cell_type": "markdown",
   "metadata": {},
   "source": [
    "Como visto no resultado acima, o menor RMSE é alcançado quando $\\lambda = 38.89$. Aplicando o modelo de regressão \n",
    "Ridge para o hiperparâmetro encontrado no conjunto de validação, tem-se:"
   ]
  },
  {
   "cell_type": "code",
   "execution_count": 21,
   "metadata": {},
   "outputs": [
    {
     "name": "stdout",
     "output_type": "stream",
     "text": [
      "Ridge model coefficients.: b0, ..., b6 (lambda = 38.89)\n",
      "\n",
      "[[ 2.50903880e+00]\n",
      " [-1.77821019e-03]\n",
      " [ 2.09676126e-01]\n",
      " [ 3.97405977e-02]\n",
      " [ 1.05654242e-01]\n",
      " [-1.62538246e-01]\n",
      " [ 4.78372622e-02]]\n",
      "\n",
      "Ridge performance - validation set:\n",
      "\n",
      "RMSE: 1.0844601343159075\n",
      "R2: 0.039604258494922995\n",
      "\n",
      "Residuals:\n",
      "                  MOS\n",
      "count  4537.00000000\n",
      "mean      0.01377363\n",
      "std       1.08449218\n",
      "min      -2.29133068\n",
      "25%      -0.59060925\n",
      "50%      -0.00115180\n",
      "75%       0.45420129\n",
      "max       2.50420602\n"
     ]
    }
   ],
   "source": [
    "# Build the model with lambda opt = 38.89 58.38 \n",
    "ridge_opt = linear_model.Ridge(alpha=lambd[np.argmin(cv_rmse)])\n",
    "# Model fitting using the training set:\n",
    "ridge_opt.fit(mos_trainX.values, mos_trainY.values)\n",
    "# Model output: estimated coeff. independent term + D=6 weigths\n",
    "ridge_opt_beta = np.hstack([ridge_opt.intercept_[:, np.newaxis], ridge_opt.coef_]) \n",
    "\n",
    "# Testing the model:\n",
    "# Estimate the outcome using the validation set: real data = mos_Y\n",
    "ridge_opt_Y = ridge_opt.predict(mos_X.values)\n",
    "# Compute the RMSE and the R2 scores using scikit-learn built-in functions\n",
    "ridge_opt_rmse = np.sqrt(mean_squared_error(mos_Y, ridge_opt_Y))\n",
    "ridge_opt_r2 = r2_score(mos_Y, ridge_opt_Y)\n",
    "\n",
    "# View results:\n",
    "print(f'''Ridge model coefficients.: b0, ..., b6 (lambda = {lambd[np.argmin(cv_rmse)]:.4})\\n\n",
    "{ridge_opt_beta.T}\\n\n",
    "Ridge performance - validation set:\\n\n",
    "RMSE: {ridge_opt_rmse}\n",
    "R2: {ridge_opt_r2}\\n\n",
    "Residuals:\\n {(mos_Y - ridge_opt_Y).describe()}''')"
   ]
  },
  {
   "cell_type": "markdown",
   "metadata": {},
   "source": [
    "### Modelos com redução de dimensionalidade: PLS e PCR\n",
    "\n",
    "Nas células abaixo, serão implementados os modelos Partial least-squares e Principal-component regression a fim de traçar um comparativo da performance com relação ao teste de modelo com o uso do conjunto de dados de validação.\n",
    "\n",
    "### PCR"
   ]
  },
  {
   "cell_type": "code",
   "execution_count": 10,
   "metadata": {},
   "outputs": [
    {
     "data": {
      "image/png": "[encoded data removed]",
      "text/plain": [
       "<Figure size 432x288 with 1 Axes>"
      ]
     },
     "metadata": {
      "needs_background": "light"
     },
     "output_type": "display_data"
    }
   ],
   "source": [
    "# Principal component analysis of the training set:\n",
    "pca = PCA(n_components=6) \n",
    "pca.fit(mos_trainX)\n",
    "plt.figure()\n",
    "plt.title('Principal component analysis of the training set')\n",
    "plt.xlabel('nº of PCs')\n",
    "plt.ylabel('Cumulative expplained variance')\n",
    "plt.plot(np.arange(6)+1, np.cumsum(pca.explained_variance_ratio_), 'o-')\n",
    "plt.show()"
   ]
  },
  {
   "cell_type": "code",
   "execution_count": 11,
   "metadata": {},
   "outputs": [
    {
     "name": "stdout",
     "output_type": "stream",
     "text": [
      "PCR model coefficients.:\n",
      "\n",
      "[[ 2.5090388 ]\n",
      " [-0.00940512]\n",
      " [ 0.09211552]]\n",
      "\n",
      "PCR performance - validation set:\n",
      "\n",
      "RMSE: 1.1021601497742404\n",
      "R2: 0.007998220298186864\n",
      "\n",
      "Residuals:\n",
      "                MOS\n",
      "count  4537.000000\n",
      "mean      0.013774\n",
      "std       1.102196\n",
      "min      -2.035249\n",
      "25%      -0.571737\n",
      "50%       0.080725\n",
      "75%       0.393214\n",
      "max       2.213286\n"
     ]
    }
   ],
   "source": [
    "# Principal-component regression: considering nº of PC = 2\n",
    "pca = PCA(n_components=2) # PCA components\n",
    "# Transforming the training set:\n",
    "pc_train_set = pca.fit_transform(mos_trainX.values)\n",
    "# Perform the linear regression (LS):\n",
    "pcr = linear_model.LinearRegression()\n",
    "# Model fitting using the PC training set:\n",
    "pcr.fit(pc_train_set, mos_trainY.values)\n",
    "# Model output: estimated coeff. independent term + weigths\n",
    "pcr_beta = np.hstack([pcr.intercept_[:, np.newaxis], pcr.coef_]) \n",
    "\n",
    "# Testing the model:\n",
    "# Estimate the outcome using the transformed validation set: real data = mos_Y\n",
    "pcr_Y = pcr.predict(pca.fit_transform(mos_X.values))\n",
    "# Compute the RMSE and the R2 scores using scikit-learn built-in functions\n",
    "pcr_rmse = np.sqrt(mean_squared_error(mos_Y, pcr_Y))\n",
    "pcr_r2 = r2_score(mos_Y, pcr_Y)\n",
    "\n",
    "# View results:\n",
    "print(f'''PCR model coefficients.:\\n\n",
    "{pcr_beta.T}\\n\n",
    "PCR performance - validation set:\\n\n",
    "RMSE: {pcr_rmse}\n",
    "R2: {pcr_r2}\\n\n",
    "Residuals:\\n {(mos_Y - pcr_Y).describe()}''')"
   ]
  },
  {
   "cell_type": "markdown",
   "metadata": {},
   "source": [
    "### PLS"
   ]
  },
  {
   "cell_type": "code",
   "execution_count": 12,
   "metadata": {},
   "outputs": [
    {
     "name": "stdout",
     "output_type": "stream",
     "text": [
      "PLS model PCs = 2:\n",
      "\n",
      "PLS performance - validation set:\n",
      "\n",
      "RMSE: 1.084115636762377\n",
      "R2: 0.04021433427761234\n",
      "\n",
      "Residuals:\n",
      "                MOS\n",
      "count  4537.000000\n",
      "mean      0.013774\n",
      "std       1.084148\n",
      "min      -2.176870\n",
      "25%      -0.611507\n",
      "50%       0.011996\n",
      "75%       0.451326\n",
      "max       2.491729\n"
     ]
    }
   ],
   "source": [
    "# Partial least-squares: considering nº of PC = 2\n",
    "# Build the model:\n",
    "pls = PLSRegression(n_components=2)\n",
    "# Model fitting using the training set:\n",
    "pls.fit(mos_trainX.values, mos_trainY.values)\n",
    "\n",
    "# Testing the model:\n",
    "# Estimate the outcome using the transformed validation set: real data = mos_Y\n",
    "pls_Y = pls.predict(mos_X.values)\n",
    "# Compute the RMSE and the R2 scores using scikit-learn built-in functions\n",
    "pls_rmse = np.sqrt(mean_squared_error(mos_Y, pls_Y))\n",
    "pls_r2 = r2_score(mos_Y, pls_Y)\n",
    "\n",
    "# View results:\n",
    "print(f'''PLS model PCs = 2:\\n\n",
    "PLS performance - validation set:\\n\n",
    "RMSE: {pls_rmse}\n",
    "R2: {pls_r2}\\n\n",
    "Residuals:\\n {(mos_Y - pls_Y).describe()}''')"
   ]
  },
  {
   "cell_type": "markdown",
   "metadata": {},
   "source": [
    "### Busca pelo número ótimo de compontentes principais\n",
    "\n",
    "Ulitizando um esquema de validação cruzada com $k=10$ partições, os perfis para o RMSE e R2 de cada modelo foi \n",
    "traçado em função do número de componentes principais levadas em consideração."
   ]
  },
  {
   "cell_type": "code",
   "execution_count": 13,
   "metadata": {},
   "outputs": [],
   "source": [
    "# Range of nº PCs:\n",
    "PCs = np.arange(mos_trainX.shape[1])+1\n",
    "# Variables for mean of CV metrics: PCR\n",
    "cv_rmsePCR = np.zeros(PCs.size)\n",
    "cv_r2PCR = np.zeros(PCs.size)\n",
    "# PLS\n",
    "cv_rmsePLS = np.zeros(PCs.size)\n",
    "cv_r2PLS = np.zeros(PCs.size)\n",
    "# Perform CV profile:\n",
    "for idx, val in enumerate(PCs):\n",
    "    #CV PCR\n",
    "    # Build the model: nº Pcs = val\n",
    "    pca = PCA(n_components=val)\n",
    "    # Transform the predictors:\n",
    "    pc_train_set = pca.fit_transform(mos_trainX.values)\n",
    "    cv_pcr = linear_model.LinearRegression()\n",
    "     # Cross validation scheme: considering k=10\n",
    "    cv_r2PCR[idx] = cross_val_score(cv_pcr, pc_train_set, mos_trainY.values, cv=10).mean()\n",
    "    cv_pcr_rmse = cross_val_score(cv_pcr, pc_train_set, mos_trainY.values, \n",
    "                                         scoring='neg_mean_squared_error', cv=10).mean()\n",
    "    cv_rmsePCR[idx] = np.sqrt(-cv_pcr_rmse)\n",
    "    # CV PLS\n",
    "    # Build the model: nº Pcs = val\n",
    "    cv_pls = PLSRegression(n_components=val)\n",
    "     # Cross validation scheme: considering k=10\n",
    "    cv_r2PLS[idx] = cross_val_score(cv_pls, mos_trainX.values, mos_trainY.values, cv=10).mean()\n",
    "    cv_pls_rmse = cross_val_score(cv_pls, mos_trainX.values, mos_trainY.values, \n",
    "                                         scoring='neg_mean_squared_error', cv=10).mean()\n",
    "    cv_rmsePLS[idx] = np.sqrt(-cv_pls_rmse)"
   ]
  },
  {
   "cell_type": "code",
   "execution_count": 39,
   "metadata": {},
   "outputs": [
    {
     "data": {
      "image/png": "[encoded data removed]",
      "text/plain": [
       "<Figure size 864x360 with 2 Axes>"
      ]
     },
     "metadata": {
      "needs_background": "light"
     },
     "output_type": "display_data"
    }
   ],
   "source": [
    "# Process report: plot cross-validation profile:\n",
    "fig, ax = plt.subplots(1, 2, figsize=(12,5))\n",
    "plt.suptitle('Cross - Validation profile (k=10) - PCR and PLS')\n",
    "ax[0].plot(PCs, cv_rmsePLS,'C3-o', label='PLS')\n",
    "ax[0].plot(PCs, cv_rmsePCR,'C0-o', label='PCR')\n",
    "ax[0].set_xlabel('Number of PCs')\n",
    "ax[0].set_ylabel('RMSE')\n",
    "ax[0].legend()\n",
    "# ax[0].set_ylim([1.086, 1.09])\n",
    "ax[1].plot(PCs, cv_r2PLS,'C3-o', label='PLS')\n",
    "ax[1].plot(PCs, cv_r2PCR,'C0-o', label='PLS')\n",
    "ax[1].legend()\n",
    "ax[1].set_xlabel('Number of PCs')\n",
    "ax[1].set_ylabel('R2')\n",
    "plt.show()\n",
    "fig.savefig('hw02-figs/CV_pcr-pls.pdf')"
   ]
  },
  {
   "cell_type": "code",
   "execution_count": 15,
   "metadata": {},
   "outputs": [
    {
     "name": "stdout",
     "output_type": "stream",
     "text": [
      "PLS model PCs = 2:\n",
      "\n",
      "PLS performance - validation set:\n",
      "\n",
      "RMSE: 1.0844628901880375\n",
      "R2: 0.03959937729894869\n",
      "\n",
      "Residuals:\n",
      "                MOS\n",
      "count  4537.000000\n",
      "mean      0.013774\n",
      "std       1.084495\n",
      "min      -2.293488\n",
      "25%      -0.591028\n",
      "50%      -0.001427\n",
      "75%       0.454450\n",
      "max       2.505438\n"
     ]
    }
   ],
   "source": [
    "# Partial least-squares: considering nº of PC = 4\n",
    "# Build the model:\n",
    "pls = PLSRegression(n_components=4)\n",
    "# Model fitting using the training set:\n",
    "pls.fit(mos_trainX.values, mos_trainY.values)\n",
    "\n",
    "# Testing the model:\n",
    "# Estimate the outcome using the transformed validation set: real data = mos_Y\n",
    "pls_Y = pls.predict(mos_X.values)\n",
    "# Compute the RMSE and the R2 scores using scikit-learn built-in functions\n",
    "pls_rmse = np.sqrt(mean_squared_error(mos_Y, pls_Y))\n",
    "pls_r2 = r2_score(mos_Y, pls_Y)\n",
    "\n",
    "# View results:\n",
    "print(f'''PLS model PCs = 2:\\n\n",
    "PLS performance - validation set:\\n\n",
    "RMSE: {pls_rmse}\n",
    "R2: {pls_r2}\\n\n",
    "Residuals:\\n {(mos_Y - pls_Y).describe()}''')"
   ]
  },
  {
   "cell_type": "code",
   "execution_count": 36,
   "metadata": {},
   "outputs": [
    {
     "name": "stdout",
     "output_type": "stream",
     "text": [
      "RMSE difference (ols_rmse): [ 0.00000000e+00 -2.42693823e-08 -8.62656612e-07  1.89321552e-06]\n"
     ]
    },
    {
     "data": {
      "image/png": "[encoded data removed]",
      "text/plain": [
       "<Figure size 504x360 with 1 Axes>"
      ]
     },
     "metadata": {
      "needs_background": "light"
     },
     "output_type": "display_data"
    }
   ],
   "source": [
    "# Comparsion os the models - RMSE:\n",
    "print(f'''RMSE difference (ols_rmse): {[ols_rmse, ridge_rmse, ridge_opt_rmse, pls_rmse] - ols_rmse}''')\n",
    "plt.figure(figsize=(7, 5))\n",
    "plt.title('Comparsion of the models RMSE wrt Validation set')\n",
    "plt.bar([0,1,2, 3], [ols_rmse, ridge_rmse, ridge_opt_rmse, pls_rmse], 0.4, color=['C0', 'C1', 'C3', 'C9'], \n",
    "                            tick_label=['OLS', 'Ridge(1)', 'Ridge(33.33)', 'PLS(4pc)'])\n",
    "plt.ylabel('RMSE')\n",
    "plt.ylim([1.08445, 1.084465])#[1.086066, 1.08607])\n",
    "plt.savefig('hw02-figs/rmse_barras.pdf')\n",
    "plt.show()"
   ]
  },
  {
   "cell_type": "code",
   "execution_count": 17,
   "metadata": {},
   "outputs": [
    {
     "data": {
      "text/html": [
       "<div>\n",
       "<style scoped>\n",
       "    .dataframe tbody tr th:only-of-type {\n",
       "        vertical-align: middle;\n",
       "    }\n",
       "\n",
       "    .dataframe tbody tr th {\n",
       "        vertical-align: top;\n",
       "    }\n",
       "\n",
       "    .dataframe thead th {\n",
       "        text-align: right;\n",
       "    }\n",
       "</style>\n",
       "<table border=\"1\" class=\"dataframe\">\n",
       "  <thead>\n",
       "    <tr style=\"text-align: right;\">\n",
       "      <th></th>\n",
       "      <th>RMSE</th>\n",
       "      <th>R2</th>\n",
       "    </tr>\n",
       "  </thead>\n",
       "  <tbody>\n",
       "    <tr>\n",
       "      <th>OLS</th>\n",
       "      <td>1.08446100</td>\n",
       "      <td>0.03960273</td>\n",
       "    </tr>\n",
       "    <tr>\n",
       "      <th>Ridge ($\\lambda$=1)</th>\n",
       "      <td>1.08446097</td>\n",
       "      <td>0.03960277</td>\n",
       "    </tr>\n",
       "    <tr>\n",
       "      <th>Ridge ($\\lambda$=33.33)</th>\n",
       "      <td>1.08446012</td>\n",
       "      <td>0.03960428</td>\n",
       "    </tr>\n",
       "    <tr>\n",
       "      <th>PLS (4pc)</th>\n",
       "      <td>1.08446289</td>\n",
       "      <td>0.03959938</td>\n",
       "    </tr>\n",
       "  </tbody>\n",
       "</table>\n",
       "</div>"
      ],
      "text/plain": [
       "                               RMSE          R2\n",
       "OLS                      1.08446100  0.03960273\n",
       "Ridge ($\\lambda$=1)      1.08446097  0.03960277\n",
       "Ridge ($\\lambda$=33.33)  1.08446012  0.03960428\n",
       "PLS (4pc)                1.08446289  0.03959938"
      ]
     },
     "execution_count": 17,
     "metadata": {},
     "output_type": "execute_result"
    }
   ],
   "source": [
    "# Table with the RMSE and R2 score of each model (using validation set):\n",
    "df = pd.DataFrame([ols_rmse, ridge_rmse, ridge_opt_rmse, pls_rmse], \n",
    "                  index=['OLS', 'Ridge ($\\lambda$=1)', 'Ridge ($\\lambda$=33.33)', 'PLS (4pc)'], \n",
    "                  columns=['RMSE'])\n",
    "df['R2'] = [ols_r2, ridge_r2, ridge_opt_r2, pls_r2]\n",
    "pd.set_option('precision', 8)\n",
    "df.head()"
   ]
  },
  {
   "cell_type": "code",
   "execution_count": 18,
   "metadata": {},
   "outputs": [],
   "source": [
    "dfname = 'rmse_tabela'\n",
    "df.to_latex(f'hw02-tables/{dfname}.tex')"
   ]
  }
 ],
 "metadata": {
  "file_extension": ".py",
  "kernelspec": {
   "display_name": "Python 3",
   "language": "python",
   "name": "python3"
  },
  "language_info": {
   "codemirror_mode": {
    "name": "ipython",
    "version": 3
   },
   "file_extension": ".py",
   "mimetype": "text/x-python",
   "name": "python",
   "nbconvert_exporter": "python",
   "pygments_lexer": "ipython3",
   "version": "3.7.3"
  },
  "mimetype": "text/x-python",
  "name": "python",
  "npconvert_exporter": "python",
  "pygments_lexer": "ipython3",
  "version": 3
 },
 "nbformat": 4,
 "nbformat_minor": 2
}
