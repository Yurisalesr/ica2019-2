{
 "cells": [
  {
   "cell_type": "markdown",
   "metadata": {},
   "source": [
    "# Departamento de Engenharia de Teleinformática\n",
    "# Curso de Graduação em Engenharia de Telecomuniucações\n",
    "# TI0077 - Inteligência Computacional Aplicada\n",
    "## Homework 02 - Models for regression - Part 2/2\n",
    "\n",
    "Parte 1 questões 1 a 3: [Parte 1: Pré-processamento](preprocessing_data_hw02.ipynb)\n",
    "\n",
    "### Alunos:\n",
    "\n",
    "- Ezequias Márcio Silva de Santana Júnior - 371887\n",
    "- Ingrid Simões Moreira Furtado - 375147\n",
    "- Yuri Sales Ribeiro - 375177\n",
    "\n",
    "#### Observações:\n",
    "Para utilizar esse notebook é necessario ter Python3 instalado, juntamente com os pacotes listados abaixo:\n",
    "\n",
    "- `numpy 1.16.2`\n",
    "- `pandas 0.24.2`\n",
    "- `matplotlib 3.0.3`\n",
    "- `seaborn 0.9.0`\n",
    "- `scipy 1.2.2` scikit ???\n",
    "\n",
    "Este notebook, os dados utilizados e eventuais tabelas e figuras salvas encontam-se disponiveis no seguinte \n",
    "repositório: https://github.com/ezequiasjunior/ica2019.2\n",
    "\n",
    "Ao executar este notebook localmente, serão gerados arquivos ```.pdf``` e tabelas ```.xlsx```, ```.tex```."
   ]
  },
  {
   "cell_type": "code",
   "execution_count": 1,
   "metadata": {},
   "outputs": [],
   "source": [
    "import numpy as np\n",
    "import pandas as pd\n",
    "import matplotlib.pyplot as plt\n",
    "import seaborn as sns\n",
    "# scikit ?\n",
    "plt.style.use('seaborn')\n",
    "np.set_printoptions(3)"
   ]
  }
 ],
 "metadata": {
  "kernelspec": {
   "display_name": "Python 3",
   "language": "python",
   "name": "python3"
  },
  "language_info": {
   "codemirror_mode": {
    "name": "ipython",
    "version": 3
   },
   "file_extension": ".py",
   "mimetype": "text/x-python",
   "name": "python",
   "nbconvert_exporter": "python",
   "pygments_lexer": "ipython3",
   "version": "3.7.3"
  }
 },
 "nbformat": 4,
 "nbformat_minor": 2
}
