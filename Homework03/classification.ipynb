{
 "nbformat": 4,
 "nbformat_minor": 2,
 "metadata": {
  "language_info": {
   "name": "python",
   "codemirror_mode": {
    "name": "ipython",
    "version": 3
   }
  },
  "orig_nbformat": 2,
  "file_extension": ".py",
  "mimetype": "text/x-python",
  "name": "python",
  "npconvert_exporter": "python",
  "pygments_lexer": "ipython3",
  "version": 3
 },
 "cells": [
  {
   "cell_type": "code",
   "execution_count": 1,
   "metadata": {},
   "outputs": [],
   "source": [
    "import numpy as np\n",
    "import pandas as pd\n",
    "import matplotlib.pyplot as plt\n",
    "import seaborn as sns\n",
    "from sklearn.discriminant_analysis import LinearDiscriminantAnalysis\n",
    "from sklearn.metrics import confusion_matrix"
   ]
  },
  {
   "cell_type": "markdown",
   "execution_count": null,
   "metadata": {},
   "outputs": [],
   "source": [
    "# 1 - Modelo de Classificação Linear"
   ]
  },
  {
   "cell_type": "code",
   "execution_count": 90,
   "metadata": {},
   "outputs": [],
   "source": [
    "# Inicialização do LDA\n",
    "lda = LinearDiscriminantAnalysis()"
   ]
  },
  {
   "cell_type": "code",
   "execution_count": 94,
   "metadata": {},
   "outputs": [],
   "source": [
    "# Carregando conjunto de treino e teste\n",
    "treino = pd.read_excel('Homework03/hw3-data/cls_trated_train_set.xlsx')\n",
    "teste = pd.read_excel('Homework03/hw3-data/cls_trated_test_set.xlsx')"
   ]
  },
  {
   "cell_type": "code",
   "execution_count": 95,
   "metadata": {},
   "outputs": [],
   "source": [
    "# Organizando os conjuntos\n",
    "treino = treino.drop(columns=['Unnamed: 0'])\n",
    "teste = teste.drop(columns=['Unnamed: 0'])\n",
    "x_treino = treino.T.iloc[0:-1]\n",
    "y_treino = treino['MOS']\n",
    "x_teste = teste.T.iloc[0:-1]\n",
    "y_teste = teste['MOS']\n",
    "x_treino,x_teste,y_treino,y_teste = x_treino.T,x_teste.T,y_treino.T,y_teste.T"
   ]
  },
  {
   "cell_type": "code",
   "execution_count": 128,
   "metadata": {},
   "outputs": [
    {
     "name": "stdout",
     "output_type": "stream",
     "text": "A análise de discriminante linear conseguiu prever 57.42% das amostras\n\n Confusion Matrix: \n [[1363  659    8    0   15]\n [ 182 1188    1    0    4]\n [ 163   27    8    0   18]\n [  15  104    3    0    1]\n [ 416  300   16    0   46]]\n"
    }
   ],
   "source": [
    "lda.fit(x_treino,y_treino) # Treinando o LDA\n",
    "pred = lda.predict(x_teste) # Testando o LDA\n",
    "CM = confusion_matrix(y_teste,pred) # Cálculo da confusion matrix\n",
    "pont = lda.score(x_teste,y_teste) # Cálculo da precisão\n",
    "print(f'A análise de discriminante linear conseguiu prever {100*pont:.4}% das amostras')\n",
    "print(f'\\nConfusion Matrix: \\n {CM}')"
   ]
  },
  {
   "cell_type": "markdown",
   "execution_count": null,
   "metadata": {},
   "outputs": [],
   "source": [
    "# 2 - Modelo de Classificação não Linear"
   ]
  },
  {
   "cell_type": "markdown",
   "execution_count": null,
   "metadata": {},
   "outputs": [],
   "source": [
    "## 2.1 - Análise de discriminante quadratico"
   ]
  },
  {
   "cell_type": "code",
   "execution_count": null,
   "metadata": {},
   "outputs": [],
   "source": []
  }
 ]
}