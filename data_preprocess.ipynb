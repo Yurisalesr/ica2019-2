{
 "cells": [
  {
   "cell_type": "code",
   "execution_count": 1,
   "metadata": {},
   "outputs": [],
   "source": [
    "import numpy as np\n",
    "import pandas as pd\n",
    "import matplotlib.pyplot as plt"
   ]
  },
  {
   "cell_type": "markdown",
   "metadata": {},
   "source": [
    "## Data"
   ]
  },
  {
   "cell_type": "code",
   "execution_count": 2,
   "metadata": {},
   "outputs": [],
   "source": [
    "datahw01 = pd.read_csv('datasethw01.csv')"
   ]
  },
  {
   "cell_type": "code",
   "execution_count": 3,
   "metadata": {},
   "outputs": [
    {
     "data": {
      "text/plain": [
       "(8361, (929, 9))"
      ]
     },
     "execution_count": 3,
     "metadata": {},
     "output_type": "execute_result"
    }
   ],
   "source": [
    "datahw01.size, datahw01.shape"
   ]
  },
  {
   "cell_type": "code",
   "execution_count": 9,
   "metadata": {
    "scrolled": true
   },
   "outputs": [
    {
     "data": {
      "text/html": [
       "<div>\n",
       "<style scoped>\n",
       "    .dataframe tbody tr th:only-of-type {\n",
       "        vertical-align: middle;\n",
       "    }\n",
       "\n",
       "    .dataframe tbody tr th {\n",
       "        vertical-align: top;\n",
       "    }\n",
       "\n",
       "    .dataframe thead th {\n",
       "        text-align: right;\n",
       "    }\n",
       "</style>\n",
       "<table border=\"1\" class=\"dataframe\">\n",
       "  <thead>\n",
       "    <tr style=\"text-align: right;\">\n",
       "      <th></th>\n",
       "      <th>Date Of Test</th>\n",
       "      <th>Signal (dBm)</th>\n",
       "      <th>Speed (m/s)</th>\n",
       "      <th>Distance from site (m)</th>\n",
       "      <th>Call Test Duration (s)</th>\n",
       "      <th>Call Test Result</th>\n",
       "      <th>Call Test Technology</th>\n",
       "      <th>Call Test Setup Time (s)</th>\n",
       "      <th>MOS</th>\n",
       "    </tr>\n",
       "  </thead>\n",
       "  <tbody>\n",
       "    <tr>\n",
       "      <th>0</th>\n",
       "      <td>2017-07-01 00:02:57</td>\n",
       "      <td>-61</td>\n",
       "      <td>68.769997</td>\n",
       "      <td>1855.54</td>\n",
       "      <td>90.0</td>\n",
       "      <td>1</td>\n",
       "      <td>1</td>\n",
       "      <td>0.45</td>\n",
       "      <td>3</td>\n",
       "    </tr>\n",
       "    <tr>\n",
       "      <th>1</th>\n",
       "      <td>2017-07-01 00:05:29</td>\n",
       "      <td>-71</td>\n",
       "      <td>69.169998</td>\n",
       "      <td>1685.62</td>\n",
       "      <td>90.0</td>\n",
       "      <td>1</td>\n",
       "      <td>1</td>\n",
       "      <td>0.51</td>\n",
       "      <td>2</td>\n",
       "    </tr>\n",
       "    <tr>\n",
       "      <th>2</th>\n",
       "      <td>2017-07-01 00:08:02</td>\n",
       "      <td>-65</td>\n",
       "      <td>69.279999</td>\n",
       "      <td>1770.92</td>\n",
       "      <td>90.0</td>\n",
       "      <td>1</td>\n",
       "      <td>1</td>\n",
       "      <td>0.00</td>\n",
       "      <td>1</td>\n",
       "    </tr>\n",
       "    <tr>\n",
       "      <th>3</th>\n",
       "      <td>2017-07-01 00:10:30</td>\n",
       "      <td>-103</td>\n",
       "      <td>0.820000</td>\n",
       "      <td>256.07</td>\n",
       "      <td>60.0</td>\n",
       "      <td>1</td>\n",
       "      <td>1</td>\n",
       "      <td>3.35</td>\n",
       "      <td>4</td>\n",
       "    </tr>\n",
       "    <tr>\n",
       "      <th>4</th>\n",
       "      <td>2017-07-01 00:10:37</td>\n",
       "      <td>-61</td>\n",
       "      <td>68.860001</td>\n",
       "      <td>452.50</td>\n",
       "      <td>90.0</td>\n",
       "      <td>1</td>\n",
       "      <td>1</td>\n",
       "      <td>0.00</td>\n",
       "      <td>1</td>\n",
       "    </tr>\n",
       "  </tbody>\n",
       "</table>\n",
       "</div>"
      ],
      "text/plain": [
       "          Date Of Test  Signal (dBm)  Speed (m/s)  Distance from site (m)  \\\n",
       "0  2017-07-01 00:02:57           -61    68.769997                 1855.54   \n",
       "1  2017-07-01 00:05:29           -71    69.169998                 1685.62   \n",
       "2  2017-07-01 00:08:02           -65    69.279999                 1770.92   \n",
       "3  2017-07-01 00:10:30          -103     0.820000                  256.07   \n",
       "4  2017-07-01 00:10:37           -61    68.860001                  452.50   \n",
       "\n",
       "   Call Test Duration (s)  Call Test Result  Call Test Technology  \\\n",
       "0                    90.0                 1                     1   \n",
       "1                    90.0                 1                     1   \n",
       "2                    90.0                 1                     1   \n",
       "3                    60.0                 1                     1   \n",
       "4                    90.0                 1                     1   \n",
       "\n",
       "   Call Test Setup Time (s)  MOS  \n",
       "0                      0.45    3  \n",
       "1                      0.51    2  \n",
       "2                      0.00    1  \n",
       "3                      3.35    4  \n",
       "4                      0.00    1  "
      ]
     },
     "execution_count": 9,
     "metadata": {},
     "output_type": "execute_result"
    }
   ],
   "source": [
    "datahw01.head()"
   ]
  },
  {
   "cell_type": "markdown",
   "metadata": {},
   "source": [
    "## Unconditional mono-variate analysis"
   ]
  },
  {
   "cell_type": "code",
   "execution_count": 219,
   "metadata": {
    "scrolled": true
   },
   "outputs": [
    {
     "data": {
      "text/html": [
       "<div>\n",
       "<style scoped>\n",
       "    .dataframe tbody tr th:only-of-type {\n",
       "        vertical-align: middle;\n",
       "    }\n",
       "\n",
       "    .dataframe tbody tr th {\n",
       "        vertical-align: top;\n",
       "    }\n",
       "\n",
       "    .dataframe thead th {\n",
       "        text-align: right;\n",
       "    }\n",
       "</style>\n",
       "<table border=\"1\" class=\"dataframe\">\n",
       "  <thead>\n",
       "    <tr style=\"text-align: right;\">\n",
       "      <th></th>\n",
       "      <th>Signal (dBm)</th>\n",
       "      <th>Speed (m/s)</th>\n",
       "      <th>Distance from site (m)</th>\n",
       "      <th>Call Test Duration (s)</th>\n",
       "      <th>Call Test Result</th>\n",
       "      <th>Call Test Technology</th>\n",
       "      <th>Call Test Setup Time (s)</th>\n",
       "    </tr>\n",
       "  </thead>\n",
       "  <tbody>\n",
       "    <tr>\n",
       "      <th>Mean $\\mu_d$</th>\n",
       "      <td>-100.162540</td>\n",
       "      <td>8.266168</td>\n",
       "      <td>1.351003</td>\n",
       "      <td>102.613886</td>\n",
       "      <td>0.988159</td>\n",
       "      <td>1.665231</td>\n",
       "      <td>1.179569</td>\n",
       "    </tr>\n",
       "    <tr>\n",
       "      <th>std $\\sigma_d$</th>\n",
       "      <td>17.206732</td>\n",
       "      <td>18.557894</td>\n",
       "      <td>3.370051</td>\n",
       "      <td>97.257257</td>\n",
       "      <td>0.108227</td>\n",
       "      <td>0.517878</td>\n",
       "      <td>1.474385</td>\n",
       "    </tr>\n",
       "    <tr>\n",
       "      <th>Skewness $\\gamma_d$</th>\n",
       "      <td>0.683338</td>\n",
       "      <td>2.659948</td>\n",
       "      <td>8.142499</td>\n",
       "      <td>4.779568</td>\n",
       "      <td>-9.040485</td>\n",
       "      <td>-1.183276</td>\n",
       "      <td>2.472588</td>\n",
       "    </tr>\n",
       "  </tbody>\n",
       "</table>\n",
       "</div>"
      ],
      "text/plain": [
       "                     Signal (dBm)  Speed (m/s)  Distance from site (m)  \\\n",
       "Mean $\\mu_d$          -100.162540     8.266168                1.351003   \n",
       "std $\\sigma_d$          17.206732    18.557894                3.370051   \n",
       "Skewness $\\gamma_d$      0.683338     2.659948                8.142499   \n",
       "\n",
       "                     Call Test Duration (s)  Call Test Result  \\\n",
       "Mean $\\mu_d$                     102.613886          0.988159   \n",
       "std $\\sigma_d$                    97.257257          0.108227   \n",
       "Skewness $\\gamma_d$                4.779568         -9.040485   \n",
       "\n",
       "                     Call Test Technology  Call Test Setup Time (s)  \n",
       "Mean $\\mu_d$                     1.665231                  1.179569  \n",
       "std $\\sigma_d$                   0.517878                  1.474385  \n",
       "Skewness $\\gamma_d$             -1.183276                  2.472588  "
      ]
     },
     "execution_count": 219,
     "metadata": {},
     "output_type": "execute_result"
    }
   ],
   "source": [
    "unc_monovar = datahw01.describe().iloc[1:3,:-1].append(datahw01.skew()[:-1], ignore_index=True)\n",
    "unc_monovar.index = ['Mean $\\mu_d$','std $\\sigma_d$','Skewness $\\gamma_d$']\n",
    "unc_monovar"
   ]
  },
  {
   "cell_type": "code",
   "execution_count": 220,
   "metadata": {
    "scrolled": false
   },
   "outputs": [
    {
     "data": {
      "image/png": "[encoded data removed]",
      "text/plain": [
       "<Figure size 1152x504 with 8 Axes>"
      ]
     },
     "metadata": {
      "needs_background": "light"
     },
     "output_type": "display_data"
    }
   ],
   "source": [
    "fig, ax = plt.subplots(2, 4, figsize=(16, 7)) \n",
    "ax = ax.ravel()\n",
    "fig.suptitle('Histograma dos Preditores')\n",
    "for i in range(1, 8):\n",
    "    ax[i-1].set_xlabel(datahw01.columns[i])\n",
    "    ax[0].set_ylabel('Frequency')\n",
    "    ax[4].set_ylabel('Frequency')\n",
    "    ax[i-1].hist(datahw01.iloc[:, i], bins=32, alpha=.75)"
   ]
  },
  {
   "cell_type": "markdown",
   "metadata": {},
   "source": [
    "## Class-conditional mono-variate analysis"
   ]
  },
  {
   "cell_type": "code",
   "execution_count": null,
   "metadata": {
    "scrolled": true
   },
   "outputs": [],
   "source": []
  },
  {
   "cell_type": "code",
   "execution_count": 288,
   "metadata": {
    "scrolled": true
   },
   "outputs": [],
   "source": [
    "# cls = datahw01.groupby('MOS')\n",
    "# for idx, group in cls:\n",
    "#      = group.describe().iloc[1:3,:-1].append(cls.get_group(i).skew()[:-1], ignore_index=True)\n",
    "    \n",
    "# cls_monovar1 = cls.get_group(1).describe().iloc[1:3,:-1].append(cls.get_group(1).skew()[:-1], ignore_index=True)\n",
    "# cls_monovar2 =\n",
    "# cls_monovar3\n",
    "# cls_monovar4\n",
    "# cls = datahw01.groupby('MOS')\n",
    "# cls.get_group(1)\n"
   ]
  },
  {
   "cell_type": "code",
   "execution_count": 318,
   "metadata": {
    "scrolled": false
   },
   "outputs": [
    {
     "data": {
      "text/html": [
       "<div>\n",
       "<style scoped>\n",
       "    .dataframe tbody tr th:only-of-type {\n",
       "        vertical-align: middle;\n",
       "    }\n",
       "\n",
       "    .dataframe tbody tr th {\n",
       "        vertical-align: top;\n",
       "    }\n",
       "\n",
       "    .dataframe thead th {\n",
       "        text-align: right;\n",
       "    }\n",
       "</style>\n",
       "<table border=\"1\" class=\"dataframe\">\n",
       "  <thead>\n",
       "    <tr style=\"text-align: right;\">\n",
       "      <th>MOS</th>\n",
       "      <th>1</th>\n",
       "      <th>2</th>\n",
       "      <th>3</th>\n",
       "      <th>4</th>\n",
       "    </tr>\n",
       "  </thead>\n",
       "  <tbody>\n",
       "    <tr>\n",
       "      <th>Signal (dBm)</th>\n",
       "      <td>-79.051282</td>\n",
       "      <td>-77.434783</td>\n",
       "      <td>-77.31200</td>\n",
       "      <td>-106.734353</td>\n",
       "    </tr>\n",
       "    <tr>\n",
       "      <th>Speed (m/s)</th>\n",
       "      <td>39.292820</td>\n",
       "      <td>30.456957</td>\n",
       "      <td>13.01176</td>\n",
       "      <td>4.338470</td>\n",
       "    </tr>\n",
       "    <tr>\n",
       "      <th>Distance from site (m)</th>\n",
       "      <td>5.202476</td>\n",
       "      <td>4.454508</td>\n",
       "      <td>1.15321</td>\n",
       "      <td>0.977923</td>\n",
       "    </tr>\n",
       "    <tr>\n",
       "      <th>Call Test Duration (s)</th>\n",
       "      <td>118.362564</td>\n",
       "      <td>281.880435</td>\n",
       "      <td>96.38232</td>\n",
       "      <td>91.373950</td>\n",
       "    </tr>\n",
       "    <tr>\n",
       "      <th>Call Test Result</th>\n",
       "      <td>0.948718</td>\n",
       "      <td>0.956522</td>\n",
       "      <td>0.99200</td>\n",
       "      <td>0.991655</td>\n",
       "    </tr>\n",
       "    <tr>\n",
       "      <th>Call Test Technology</th>\n",
       "      <td>0.897436</td>\n",
       "      <td>0.826087</td>\n",
       "      <td>0.97600</td>\n",
       "      <td>1.880389</td>\n",
       "    </tr>\n",
       "    <tr>\n",
       "      <th>Call Test Setup Time (s)</th>\n",
       "      <td>1.026667</td>\n",
       "      <td>0.700435</td>\n",
       "      <td>3.28248</td>\n",
       "      <td>0.852921</td>\n",
       "    </tr>\n",
       "  </tbody>\n",
       "</table>\n",
       "</div>"
      ],
      "text/plain": [
       "MOS                                1           2         3           4\n",
       "Signal (dBm)              -79.051282  -77.434783 -77.31200 -106.734353\n",
       "Speed (m/s)                39.292820   30.456957  13.01176    4.338470\n",
       "Distance from site (m)      5.202476    4.454508   1.15321    0.977923\n",
       "Call Test Duration (s)    118.362564  281.880435  96.38232   91.373950\n",
       "Call Test Result            0.948718    0.956522   0.99200    0.991655\n",
       "Call Test Technology        0.897436    0.826087   0.97600    1.880389\n",
       "Call Test Setup Time (s)    1.026667    0.700435   3.28248    0.852921"
      ]
     },
     "metadata": {},
     "output_type": "display_data"
    },
    {
     "data": {
      "text/html": [
       "<div>\n",
       "<style scoped>\n",
       "    .dataframe tbody tr th:only-of-type {\n",
       "        vertical-align: middle;\n",
       "    }\n",
       "\n",
       "    .dataframe tbody tr th {\n",
       "        vertical-align: top;\n",
       "    }\n",
       "\n",
       "    .dataframe thead th {\n",
       "        text-align: right;\n",
       "    }\n",
       "</style>\n",
       "<table border=\"1\" class=\"dataframe\">\n",
       "  <thead>\n",
       "    <tr style=\"text-align: right;\">\n",
       "      <th>MOS</th>\n",
       "      <th>1</th>\n",
       "      <th>2</th>\n",
       "      <th>3</th>\n",
       "      <th>4</th>\n",
       "    </tr>\n",
       "  </thead>\n",
       "  <tbody>\n",
       "    <tr>\n",
       "      <th>Signal (dBm)</th>\n",
       "      <td>12.810252</td>\n",
       "      <td>13.245800</td>\n",
       "      <td>11.626177</td>\n",
       "      <td>12.173208</td>\n",
       "    </tr>\n",
       "    <tr>\n",
       "      <th>Speed (m/s)</th>\n",
       "      <td>32.930717</td>\n",
       "      <td>22.321566</td>\n",
       "      <td>19.475256</td>\n",
       "      <td>13.703765</td>\n",
       "    </tr>\n",
       "    <tr>\n",
       "      <th>Distance from site (m)</th>\n",
       "      <td>9.918787</td>\n",
       "      <td>5.967386</td>\n",
       "      <td>1.913614</td>\n",
       "      <td>2.244750</td>\n",
       "    </tr>\n",
       "    <tr>\n",
       "      <th>Call Test Duration (s)</th>\n",
       "      <td>141.814374</td>\n",
       "      <td>249.041183</td>\n",
       "      <td>126.138810</td>\n",
       "      <td>48.171649</td>\n",
       "    </tr>\n",
       "    <tr>\n",
       "      <th>Call Test Result</th>\n",
       "      <td>0.223456</td>\n",
       "      <td>0.206185</td>\n",
       "      <td>0.089443</td>\n",
       "      <td>0.091032</td>\n",
       "    </tr>\n",
       "    <tr>\n",
       "      <th>Call Test Technology</th>\n",
       "      <td>0.307355</td>\n",
       "      <td>0.383223</td>\n",
       "      <td>0.199354</td>\n",
       "      <td>0.345511</td>\n",
       "    </tr>\n",
       "    <tr>\n",
       "      <th>Call Test Setup Time (s)</th>\n",
       "      <td>1.543622</td>\n",
       "      <td>1.341621</td>\n",
       "      <td>1.923854</td>\n",
       "      <td>1.019200</td>\n",
       "    </tr>\n",
       "  </tbody>\n",
       "</table>\n",
       "</div>"
      ],
      "text/plain": [
       "MOS                                1           2           3          4\n",
       "Signal (dBm)               12.810252   13.245800   11.626177  12.173208\n",
       "Speed (m/s)                32.930717   22.321566   19.475256  13.703765\n",
       "Distance from site (m)      9.918787    5.967386    1.913614   2.244750\n",
       "Call Test Duration (s)    141.814374  249.041183  126.138810  48.171649\n",
       "Call Test Result            0.223456    0.206185    0.089443   0.091032\n",
       "Call Test Technology        0.307355    0.383223    0.199354   0.345511\n",
       "Call Test Setup Time (s)    1.543622    1.341621    1.923854   1.019200"
      ]
     },
     "metadata": {},
     "output_type": "display_data"
    },
    {
     "data": {
      "text/html": [
       "<div>\n",
       "<style scoped>\n",
       "    .dataframe tbody tr th:only-of-type {\n",
       "        vertical-align: middle;\n",
       "    }\n",
       "\n",
       "    .dataframe tbody tr th {\n",
       "        vertical-align: top;\n",
       "    }\n",
       "\n",
       "    .dataframe thead th {\n",
       "        text-align: right;\n",
       "    }\n",
       "</style>\n",
       "<table border=\"1\" class=\"dataframe\">\n",
       "  <thead>\n",
       "    <tr style=\"text-align: right;\">\n",
       "      <th>MOS</th>\n",
       "      <th>1</th>\n",
       "      <th>2</th>\n",
       "      <th>3</th>\n",
       "      <th>4</th>\n",
       "    </tr>\n",
       "  </thead>\n",
       "  <tbody>\n",
       "    <tr>\n",
       "      <th>Signal (dBm)</th>\n",
       "      <td>-0.295257</td>\n",
       "      <td>-0.294164</td>\n",
       "      <td>-0.489714</td>\n",
       "      <td>0.921655</td>\n",
       "    </tr>\n",
       "    <tr>\n",
       "      <th>Speed (m/s)</th>\n",
       "      <td>0.060054</td>\n",
       "      <td>0.633495</td>\n",
       "      <td>2.020426</td>\n",
       "      <td>4.067270</td>\n",
       "    </tr>\n",
       "    <tr>\n",
       "      <th>Distance from site (m)</th>\n",
       "      <td>2.623576</td>\n",
       "      <td>1.939315</td>\n",
       "      <td>3.163911</td>\n",
       "      <td>14.630076</td>\n",
       "    </tr>\n",
       "    <tr>\n",
       "      <th>Call Test Duration (s)</th>\n",
       "      <td>3.223005</td>\n",
       "      <td>0.501328</td>\n",
       "      <td>3.696230</td>\n",
       "      <td>9.915876</td>\n",
       "    </tr>\n",
       "    <tr>\n",
       "      <th>Call Test Result</th>\n",
       "      <td>-4.233256</td>\n",
       "      <td>-4.629568</td>\n",
       "      <td>-11.180340</td>\n",
       "      <td>-10.831947</td>\n",
       "    </tr>\n",
       "    <tr>\n",
       "      <th>Call Test Technology</th>\n",
       "      <td>-2.725964</td>\n",
       "      <td>-1.779168</td>\n",
       "      <td>-2.734524</td>\n",
       "      <td>-2.844751</td>\n",
       "    </tr>\n",
       "    <tr>\n",
       "      <th>Call Test Setup Time (s)</th>\n",
       "      <td>1.026515</td>\n",
       "      <td>2.038377</td>\n",
       "      <td>2.069659</td>\n",
       "      <td>2.708839</td>\n",
       "    </tr>\n",
       "  </tbody>\n",
       "</table>\n",
       "</div>"
      ],
      "text/plain": [
       "MOS                              1         2          3          4\n",
       "Signal (dBm)             -0.295257 -0.294164  -0.489714   0.921655\n",
       "Speed (m/s)               0.060054  0.633495   2.020426   4.067270\n",
       "Distance from site (m)    2.623576  1.939315   3.163911  14.630076\n",
       "Call Test Duration (s)    3.223005  0.501328   3.696230   9.915876\n",
       "Call Test Result         -4.233256 -4.629568 -11.180340 -10.831947\n",
       "Call Test Technology     -2.725964 -1.779168  -2.734524  -2.844751\n",
       "Call Test Setup Time (s)  1.026515  2.038377   2.069659   2.708839"
      ]
     },
     "metadata": {},
     "output_type": "display_data"
    },
    {
     "data": {
      "text/plain": [
       "MOS\n",
       "1    [[AxesSubplot(0.125,0.670278;0.215278x0.209722...\n",
       "2    [[AxesSubplot(0.125,0.670278;0.215278x0.209722...\n",
       "3    [[AxesSubplot(0.125,0.670278;0.215278x0.209722...\n",
       "4    [[AxesSubplot(0.125,0.670278;0.215278x0.209722...\n",
       "dtype: object"
      ]
     },
     "execution_count": 318,
     "metadata": {},
     "output_type": "execute_result"
    },
    {
     "data": {
      "image/png": "[encoded data removed]",
      "text/plain": [
       "<Figure size 432x288 with 9 Axes>"
      ]
     },
     "metadata": {
      "needs_background": "light"
     },
     "output_type": "display_data"
    },
    {
     "data": {
      "image/png": "[encoded data removed]",
      "text/plain": [
       "<Figure size 432x288 with 9 Axes>"
      ]
     },
     "metadata": {
      "needs_background": "light"
     },
     "output_type": "display_data"
    },
    {
     "data": {
      "image/png": "[encoded data removed]",
      "text/plain": [
       "<Figure size 432x288 with 9 Axes>"
      ]
     },
     "metadata": {
      "needs_background": "light"
     },
     "output_type": "display_data"
    },
    {
     "data": {
      "image/png": "[encoded data removed]",
      "text/plain": [
       "<Figure size 432x288 with 9 Axes>"
      ]
     },
     "metadata": {
      "needs_background": "light"
     },
     "output_type": "display_data"
    }
   ],
   "source": [
    "cls = datahw01.groupby('MOS')\n",
    "display(cls.mean().T)\n",
    "display(cls.std().T)\n",
    "display(cls.skew().T)\n",
    "cls.hist()"
   ]
  },
  {
   "cell_type": "markdown",
   "metadata": {},
   "source": [
    "### Informações\n",
    "\n",
    " - Dados:\n",
    "\n",
    "929 observações e 9 colunas, totalizando size=8370 com 7 preditores e 4 classes\n",
    "\n",
    "1 = sucesso no teste = 919  \n",
    "0 = falhas no teste  = 11\n",
    "\n",
    "- Preditores:\n",
    "\n",
    "```['Signal (dBm)', 'Speed (m/s)', 'Distance from site (m)', 'Call Test Duration (s)', 'Call Test Result', 'Call Test Technology' , 'Call Test Setup Time (s)']```\n",
    "\n",
    "- Tecnologias:\n",
    "\n",
    "| Rating  | Label | Total|\n",
    "| ------------- | ------------- | ------------- |\n",
    "| 0  | GSM  | 21 |\n",
    "| 1  | UMTS  | 270 |\n",
    "| 2  | LTE  | 639 |\n",
    "\n",
    "\n",
    "- Classes MOS\n",
    "\n",
    "4 classes no dataset: \n",
    "\n",
    "| Rating  | Label | Total|\n",
    "| ------------- | ------------- | ------------- |\n",
    "| 1  | Bad  | 39 |\n",
    "| 2  | Poor  | 47 |\n",
    "| 3  | Fair  | 125 |\n",
    "| 4  | Good  | 719 |\n",
    "\n",
    "https://en.wikipedia.org/wiki/Mean_opinion_score\n",
    "\n",
    "Links úteis:\n",
    "\n",
    "https://pandas.pydata.org/pandas-docs/stable/reference/frame.html  \n",
    "https://pandas.pydata.org/pandas-docs/stable/reference/series.html"
   ]
  },
  {
   "cell_type": "code",
   "execution_count": 5,
   "metadata": {
    "scrolled": false
   },
   "outputs": [],
   "source": [
    "# unicas ocorrencias\n",
    "#datahw01['MOS'].nunique()\n",
    "# busca por valores:\n",
    "# for i in range(8):\n",
    "#     print(datahw01.iloc[:,i+1].all()==0)\n",
    "# grupos:\n",
    "# grouped = datahw01.groupby('MOS')\n",
    "# print('mos class:')\n",
    "# for name, group in grouped:\n",
    "#     print(name)\n",
    "#     print(group.shape)"
   ]
  }
 ],
 "metadata": {
  "kernelspec": {
   "display_name": "Python 3",
   "language": "python",
   "name": "python3"
  },
  "language_info": {
   "codemirror_mode": {
    "name": "ipython",
    "version": 3
   },
   "file_extension": ".py",
   "mimetype": "text/x-python",
   "name": "python",
   "nbconvert_exporter": "python",
   "pygments_lexer": "ipython3",
   "version": "3.7.3"
  }
 },
 "nbformat": 4,
 "nbformat_minor": 2
}
