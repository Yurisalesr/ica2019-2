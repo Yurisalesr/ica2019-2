{
 "cells": [
  {
   "cell_type": "code",
   "execution_count": 1,
   "metadata": {},
   "outputs": [],
   "source": [
    "import numpy as np\n",
    "import pandas as pd\n",
    "import matplotlib.pyplot as plt"
   ]
  },
  {
   "cell_type": "code",
   "execution_count": 2,
   "metadata": {},
   "outputs": [],
   "source": [
    "datahw01 = pd.read_csv('datasethw01.csv')"
   ]
  },
  {
   "cell_type": "code",
   "execution_count": 3,
   "metadata": {},
   "outputs": [
    {
     "data": {
      "text/plain": [
       "(8361, (929, 9))"
      ]
     },
     "execution_count": 3,
     "metadata": {},
     "output_type": "execute_result"
    }
   ],
   "source": [
    "datahw01.size, datahw01.shape"
   ]
  },
  {
   "cell_type": "code",
   "execution_count": 7,
   "metadata": {
    "scrolled": false
   },
   "outputs": [
    {
     "data": {
      "text/html": [
       "<div>\n",
       "<style scoped>\n",
       "    .dataframe tbody tr th:only-of-type {\n",
       "        vertical-align: middle;\n",
       "    }\n",
       "\n",
       "    .dataframe tbody tr th {\n",
       "        vertical-align: top;\n",
       "    }\n",
       "\n",
       "    .dataframe thead th {\n",
       "        text-align: right;\n",
       "    }\n",
       "</style>\n",
       "<table border=\"1\" class=\"dataframe\">\n",
       "  <thead>\n",
       "    <tr style=\"text-align: right;\">\n",
       "      <th></th>\n",
       "      <th>Date Of Test</th>\n",
       "      <th>Signal (dBm)</th>\n",
       "      <th>Speed (m/s)</th>\n",
       "      <th>Distance from site (m)</th>\n",
       "      <th>Call Test Duration (s)</th>\n",
       "      <th>Call Test Result</th>\n",
       "      <th>Call Test Technology</th>\n",
       "      <th>Call Test Setup Time (s)</th>\n",
       "      <th>MOS</th>\n",
       "    </tr>\n",
       "  </thead>\n",
       "  <tbody>\n",
       "    <tr>\n",
       "      <th>0</th>\n",
       "      <td>2017-07-01 00:02:57</td>\n",
       "      <td>-61</td>\n",
       "      <td>68.769997</td>\n",
       "      <td>1855.54</td>\n",
       "      <td>90.0</td>\n",
       "      <td>1</td>\n",
       "      <td>1</td>\n",
       "      <td>0.45</td>\n",
       "      <td>3</td>\n",
       "    </tr>\n",
       "    <tr>\n",
       "      <th>1</th>\n",
       "      <td>2017-07-01 00:05:29</td>\n",
       "      <td>-71</td>\n",
       "      <td>69.169998</td>\n",
       "      <td>1685.62</td>\n",
       "      <td>90.0</td>\n",
       "      <td>1</td>\n",
       "      <td>1</td>\n",
       "      <td>0.51</td>\n",
       "      <td>2</td>\n",
       "    </tr>\n",
       "    <tr>\n",
       "      <th>2</th>\n",
       "      <td>2017-07-01 00:08:02</td>\n",
       "      <td>-65</td>\n",
       "      <td>69.279999</td>\n",
       "      <td>1770.92</td>\n",
       "      <td>90.0</td>\n",
       "      <td>1</td>\n",
       "      <td>1</td>\n",
       "      <td>0.00</td>\n",
       "      <td>1</td>\n",
       "    </tr>\n",
       "    <tr>\n",
       "      <th>3</th>\n",
       "      <td>2017-07-01 00:10:30</td>\n",
       "      <td>-103</td>\n",
       "      <td>0.820000</td>\n",
       "      <td>256.07</td>\n",
       "      <td>60.0</td>\n",
       "      <td>1</td>\n",
       "      <td>1</td>\n",
       "      <td>3.35</td>\n",
       "      <td>4</td>\n",
       "    </tr>\n",
       "    <tr>\n",
       "      <th>4</th>\n",
       "      <td>2017-07-01 00:10:37</td>\n",
       "      <td>-61</td>\n",
       "      <td>68.860001</td>\n",
       "      <td>452.50</td>\n",
       "      <td>90.0</td>\n",
       "      <td>1</td>\n",
       "      <td>1</td>\n",
       "      <td>0.00</td>\n",
       "      <td>1</td>\n",
       "    </tr>\n",
       "  </tbody>\n",
       "</table>\n",
       "</div>"
      ],
      "text/plain": [
       "          Date Of Test  Signal (dBm)  Speed (m/s)  Distance from site (m)  \\\n",
       "0  2017-07-01 00:02:57           -61    68.769997                 1855.54   \n",
       "1  2017-07-01 00:05:29           -71    69.169998                 1685.62   \n",
       "2  2017-07-01 00:08:02           -65    69.279999                 1770.92   \n",
       "3  2017-07-01 00:10:30          -103     0.820000                  256.07   \n",
       "4  2017-07-01 00:10:37           -61    68.860001                  452.50   \n",
       "\n",
       "   Call Test Duration (s)  Call Test Result  Call Test Technology  \\\n",
       "0                    90.0                 1                     1   \n",
       "1                    90.0                 1                     1   \n",
       "2                    90.0                 1                     1   \n",
       "3                    60.0                 1                     1   \n",
       "4                    90.0                 1                     1   \n",
       "\n",
       "   Call Test Setup Time (s)  MOS  \n",
       "0                      0.45    3  \n",
       "1                      0.51    2  \n",
       "2                      0.00    1  \n",
       "3                      3.35    4  \n",
       "4                      0.00    1  "
      ]
     },
     "execution_count": 7,
     "metadata": {},
     "output_type": "execute_result"
    }
   ],
   "source": [
    "datahw01.head()"
   ]
  },
  {
   "cell_type": "code",
   "execution_count": null,
   "metadata": {
    "scrolled": false
   },
   "outputs": [],
   "source": []
  },
  {
   "cell_type": "markdown",
   "metadata": {},
   "source": [
    "### Informações\n",
    "\n",
    " - Dados:\n",
    "\n",
    "930 observações e 9 colunas, totalizando size=8370 com 7 preditores e 4 classes\n",
    "\n",
    "1 = sucesso no teste = 919  \n",
    "0 = falhas no teste  = 11\n",
    "\n",
    "- Preditores:\n",
    "\n",
    "```['Signal (dBm)', 'Speed (m/s)', 'Distance from site (m)', 'Call Test Duration (s)', 'Call Test Result', 'Call Test Technology' , 'Call Test Setup Time (s)']```\n",
    "\n",
    "- Tecnologias:\n",
    "\n",
    "| Rating  | Label | Total|\n",
    "| ------------- | ------------- | ------------- |\n",
    "| 0  | GSM  | 21 |\n",
    "| 1  | UMTS  | 270 |\n",
    "| 2  | LTE  | 639 |\n",
    "\n",
    "\n",
    "- Classes MOS\n",
    "\n",
    "4 classes no dataset: \n",
    "\n",
    "| Rating  | Label | Total|\n",
    "| ------------- | ------------- | ------------- |\n",
    "| 1  | Bad  | 39 |\n",
    "| 2  | Poor  | 47 |\n",
    "| 3  | Fair  | 125 |\n",
    "| 4  | Good  | 719 |\n",
    "\n",
    "https://en.wikipedia.org/wiki/Mean_opinion_score\n",
    "\n"
   ]
  },
  {
   "cell_type": "code",
   "execution_count": 5,
   "metadata": {
    "scrolled": false
   },
   "outputs": [],
   "source": [
    "# unicas ocorrencias\n",
    "#datahw01['MOS'].nunique()\n",
    "# busca por valores:\n",
    "# for i in range(8):\n",
    "#     print(datahw01.iloc[:,i+1].all()==0)\n",
    "# grupos:\n",
    "# grouped = datahw01.groupby('MOS')\n",
    "# print('mos class:')\n",
    "# for name, group in grouped:\n",
    "#     print(name)\n",
    "#     print(group.shape)"
   ]
  }
 ],
 "metadata": {
  "kernelspec": {
   "display_name": "Python 3",
   "language": "python",
   "name": "python3"
  },
  "language_info": {
   "codemirror_mode": {
    "name": "ipython",
    "version": 3
   },
   "file_extension": ".py",
   "mimetype": "text/x-python",
   "name": "python",
   "nbconvert_exporter": "python",
   "pygments_lexer": "ipython3",
   "version": "3.7.3"
  }
 },
 "nbformat": 4,
 "nbformat_minor": 2
}
