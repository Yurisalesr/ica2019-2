{
 "cells": [
  {
   "cell_type": "code",
   "execution_count": 1,
   "metadata": {},
   "outputs": [],
   "source": [
    "import numpy as np\n",
    "import pandas as pd\n",
    "import matplotlib.pyplot as plt"
   ]
  },
  {
   "cell_type": "code",
   "execution_count": 2,
   "metadata": {},
   "outputs": [],
   "source": [
    "datahw01 = pd.read_csv('datasethw01.csv')"
   ]
  },
  {
   "cell_type": "code",
   "execution_count": 3,
   "metadata": {},
   "outputs": [
    {
     "data": {
      "text/plain": [
       "(8370, (930, 9))"
      ]
     },
     "execution_count": 3,
     "metadata": {},
     "output_type": "execute_result"
    }
   ],
   "source": [
    "datahw01.size, datahw01.shape"
   ]
  },
  {
   "cell_type": "code",
   "execution_count": 95,
   "metadata": {},
   "outputs": [
    {
     "name": "stdout",
     "output_type": "stream",
     "text": [
      "False\n",
      "True\n",
      "False\n",
      "False\n",
      "True\n",
      "True\n",
      "True\n",
      "False\n"
     ]
    }
   ],
   "source": [
    "for i in range(8):\n",
    "    print(datahw01.iloc[:,i+1].all()==0)\n"
   ]
  },
  {
   "cell_type": "code",
   "execution_count": 105,
   "metadata": {
    "scrolled": false
   },
   "outputs": [],
   "source": [
    "datahw01['MOS'] = np.rint(datahw01['MOS'])"
   ]
  },
  {
   "cell_type": "code",
   "execution_count": 107,
   "metadata": {},
   "outputs": [
    {
     "data": {
      "text/html": [
       "<div>\n",
       "<style scoped>\n",
       "    .dataframe tbody tr th:only-of-type {\n",
       "        vertical-align: middle;\n",
       "    }\n",
       "\n",
       "    .dataframe tbody tr th {\n",
       "        vertical-align: top;\n",
       "    }\n",
       "\n",
       "    .dataframe thead th {\n",
       "        text-align: right;\n",
       "    }\n",
       "</style>\n",
       "<table border=\"1\" class=\"dataframe\">\n",
       "  <thead>\n",
       "    <tr style=\"text-align: right;\">\n",
       "      <th></th>\n",
       "      <th>Date Of Test</th>\n",
       "      <th>Signal (dBm)</th>\n",
       "      <th>Speed (m/s)</th>\n",
       "      <th>Distance from site (m)</th>\n",
       "      <th>Call Test Duration (s)</th>\n",
       "      <th>Call Test Result</th>\n",
       "      <th>Call Test Technology</th>\n",
       "      <th>Call Test Setup Time (s)</th>\n",
       "      <th>MOS</th>\n",
       "    </tr>\n",
       "  </thead>\n",
       "  <tbody>\n",
       "    <tr>\n",
       "      <th>0</th>\n",
       "      <td>2017-07-01 00:00:27</td>\n",
       "      <td>-61</td>\n",
       "      <td>68.800003</td>\n",
       "      <td>1048.60</td>\n",
       "      <td>90.0</td>\n",
       "      <td>1</td>\n",
       "      <td>1</td>\n",
       "      <td>0.56</td>\n",
       "      <td>2.0</td>\n",
       "    </tr>\n",
       "    <tr>\n",
       "      <th>1</th>\n",
       "      <td>2017-07-01 00:02:57</td>\n",
       "      <td>-61</td>\n",
       "      <td>68.769997</td>\n",
       "      <td>1855.54</td>\n",
       "      <td>90.0</td>\n",
       "      <td>1</td>\n",
       "      <td>1</td>\n",
       "      <td>0.45</td>\n",
       "      <td>3.0</td>\n",
       "    </tr>\n",
       "    <tr>\n",
       "      <th>2</th>\n",
       "      <td>2017-07-01 00:05:29</td>\n",
       "      <td>-71</td>\n",
       "      <td>69.169998</td>\n",
       "      <td>1685.62</td>\n",
       "      <td>90.0</td>\n",
       "      <td>1</td>\n",
       "      <td>1</td>\n",
       "      <td>0.51</td>\n",
       "      <td>2.0</td>\n",
       "    </tr>\n",
       "    <tr>\n",
       "      <th>3</th>\n",
       "      <td>2017-07-01 00:08:02</td>\n",
       "      <td>-65</td>\n",
       "      <td>69.279999</td>\n",
       "      <td>1770.92</td>\n",
       "      <td>90.0</td>\n",
       "      <td>1</td>\n",
       "      <td>1</td>\n",
       "      <td>0.00</td>\n",
       "      <td>1.0</td>\n",
       "    </tr>\n",
       "    <tr>\n",
       "      <th>4</th>\n",
       "      <td>2017-07-01 00:10:30</td>\n",
       "      <td>-103</td>\n",
       "      <td>0.820000</td>\n",
       "      <td>256.07</td>\n",
       "      <td>60.0</td>\n",
       "      <td>1</td>\n",
       "      <td>1</td>\n",
       "      <td>3.35</td>\n",
       "      <td>4.0</td>\n",
       "    </tr>\n",
       "  </tbody>\n",
       "</table>\n",
       "</div>"
      ],
      "text/plain": [
       "          Date Of Test  Signal (dBm)  Speed (m/s)  Distance from site (m)  \\\n",
       "0  2017-07-01 00:00:27           -61    68.800003                 1048.60   \n",
       "1  2017-07-01 00:02:57           -61    68.769997                 1855.54   \n",
       "2  2017-07-01 00:05:29           -71    69.169998                 1685.62   \n",
       "3  2017-07-01 00:08:02           -65    69.279999                 1770.92   \n",
       "4  2017-07-01 00:10:30          -103     0.820000                  256.07   \n",
       "\n",
       "   Call Test Duration (s)  Call Test Result  Call Test Technology  \\\n",
       "0                    90.0                 1                     1   \n",
       "1                    90.0                 1                     1   \n",
       "2                    90.0                 1                     1   \n",
       "3                    90.0                 1                     1   \n",
       "4                    60.0                 1                     1   \n",
       "\n",
       "   Call Test Setup Time (s)  MOS  \n",
       "0                      0.56  2.0  \n",
       "1                      0.45  3.0  \n",
       "2                      0.51  2.0  \n",
       "3                      0.00  1.0  \n",
       "4                      3.35  4.0  "
      ]
     },
     "execution_count": 107,
     "metadata": {},
     "output_type": "execute_result"
    }
   ],
   "source": [
    "datahw01.head()"
   ]
  },
  {
   "cell_type": "code",
   "execution_count": 16,
   "metadata": {
    "scrolled": false
   },
   "outputs": [
    {
     "data": {
      "text/plain": [
       "(2, 3)"
      ]
     },
     "execution_count": 16,
     "metadata": {},
     "output_type": "execute_result"
    }
   ],
   "source": [
    "datahw01['Call Test Result'].nunique(), datahw01['Call Test Technology'].nunique()"
   ]
  },
  {
   "cell_type": "code",
   "execution_count": 48,
   "metadata": {
    "scrolled": false
   },
   "outputs": [
    {
     "name": "stdout",
     "output_type": "stream",
     "text": [
      "(11, 9)\n",
      "(919, 9)\n",
      "Tecnologias:\n",
      "0\n",
      "(21, 9)\n",
      "1\n",
      "(270, 9)\n",
      "2\n",
      "(639, 9)\n"
     ]
    }
   ],
   "source": [
    "grouped = datahw01.groupby('Call Test Result')\n",
    "\n",
    "for name, group in grouped:\n",
    "    print(group.shape)\n",
    "    \n",
    "grouped = datahw01.groupby('Call Test Technology')\n",
    "print('Tecnologias:')\n",
    "for name, group in grouped:\n",
    "    print(name)\n",
    "    print(group.shape)"
   ]
  },
  {
   "cell_type": "markdown",
   "metadata": {},
   "source": [
    "\n",
    " - Dados: MOS\n",
    "\n",
    "sucesso no teste = 919  \n",
    "falhas no teste  = 11\n",
    "\n",
    "- Tecnologias:\n",
    "\n",
    "LTE = 639\n",
    "UMTS = 270\n",
    "GSM = 21\n",
    "\n",
    "- "
   ]
  }
 ],
 "metadata": {
  "kernelspec": {
   "display_name": "Python 3",
   "language": "python",
   "name": "python3"
  },
  "language_info": {
   "codemirror_mode": {
    "name": "ipython",
    "version": 3
   },
   "file_extension": ".py",
   "mimetype": "text/x-python",
   "name": "python",
   "nbconvert_exporter": "python",
   "pygments_lexer": "ipython3",
   "version": "3.7.3"
  }
 },
 "nbformat": 4,
 "nbformat_minor": 2
}
